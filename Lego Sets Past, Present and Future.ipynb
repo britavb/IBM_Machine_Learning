{
 "cells": [
  {
   "cell_type": "markdown",
   "metadata": {},
   "source": [
    "# Lego Sets Past, Present and Future\n",
    "\n",
    "## import modules"
   ]
  },
  {
   "cell_type": "code",
   "execution_count": 1,
   "metadata": {
    "ExecuteTime": {
     "end_time": "2021-08-23T09:41:44.723863Z",
     "start_time": "2021-08-23T09:41:42.151051Z"
    }
   },
   "outputs": [
    {
     "name": "stdout",
     "output_type": "stream",
     "text": [
      "packages and/or modules imported\n"
     ]
    }
   ],
   "source": [
    "import numpy as np\n",
    "import pandas as pd\n",
    "import matplotlib.pyplot as plt\n",
    "import seaborn as sns\n",
    "import warnings\n",
    "warnings.simplefilter(action='ignore')\n",
    "print('packages and/or modules imported')"
   ]
  },
  {
   "cell_type": "markdown",
   "metadata": {},
   "source": [
    "## import datasets"
   ]
  },
  {
   "cell_type": "code",
   "execution_count": 2,
   "metadata": {
    "ExecuteTime": {
     "end_time": "2021-08-23T09:41:44.792473Z",
     "start_time": "2021-08-23T09:41:44.727863Z"
    }
   },
   "outputs": [
    {
     "data": {
      "text/html": [
       "<div>\n",
       "<style scoped>\n",
       "    .dataframe tbody tr th:only-of-type {\n",
       "        vertical-align: middle;\n",
       "    }\n",
       "\n",
       "    .dataframe tbody tr th {\n",
       "        vertical-align: top;\n",
       "    }\n",
       "\n",
       "    .dataframe thead th {\n",
       "        text-align: right;\n",
       "    }\n",
       "</style>\n",
       "<table border=\"1\" class=\"dataframe\">\n",
       "  <thead>\n",
       "    <tr style=\"text-align: right;\">\n",
       "      <th></th>\n",
       "      <th>set_num</th>\n",
       "      <th>name</th>\n",
       "      <th>year</th>\n",
       "      <th>theme_id</th>\n",
       "      <th>num_parts</th>\n",
       "    </tr>\n",
       "  </thead>\n",
       "  <tbody>\n",
       "    <tr>\n",
       "      <th>0</th>\n",
       "      <td>001-1</td>\n",
       "      <td>Gears</td>\n",
       "      <td>1965-01-01</td>\n",
       "      <td>1</td>\n",
       "      <td>43</td>\n",
       "    </tr>\n",
       "    <tr>\n",
       "      <th>1</th>\n",
       "      <td>0011-2</td>\n",
       "      <td>Town Mini-Figures</td>\n",
       "      <td>1979-01-01</td>\n",
       "      <td>67</td>\n",
       "      <td>12</td>\n",
       "    </tr>\n",
       "  </tbody>\n",
       "</table>\n",
       "</div>"
      ],
      "text/plain": [
       "  set_num               name       year  theme_id  num_parts\n",
       "0   001-1              Gears 1965-01-01         1         43\n",
       "1  0011-2  Town Mini-Figures 1979-01-01        67         12"
      ]
     },
     "metadata": {},
     "output_type": "display_data"
    },
    {
     "name": "stdout",
     "output_type": "stream",
     "text": [
      "(18021, 5)\n"
     ]
    },
    {
     "data": {
      "text/html": [
       "<div>\n",
       "<style scoped>\n",
       "    .dataframe tbody tr th:only-of-type {\n",
       "        vertical-align: middle;\n",
       "    }\n",
       "\n",
       "    .dataframe tbody tr th {\n",
       "        vertical-align: top;\n",
       "    }\n",
       "\n",
       "    .dataframe thead th {\n",
       "        text-align: right;\n",
       "    }\n",
       "</style>\n",
       "<table border=\"1\" class=\"dataframe\">\n",
       "  <thead>\n",
       "    <tr style=\"text-align: right;\">\n",
       "      <th></th>\n",
       "      <th>id</th>\n",
       "      <th>name</th>\n",
       "      <th>parent_id</th>\n",
       "    </tr>\n",
       "  </thead>\n",
       "  <tbody>\n",
       "    <tr>\n",
       "      <th>0</th>\n",
       "      <td>1</td>\n",
       "      <td>Technic</td>\n",
       "      <td>NaN</td>\n",
       "    </tr>\n",
       "    <tr>\n",
       "      <th>1</th>\n",
       "      <td>2</td>\n",
       "      <td>Arctic Technic</td>\n",
       "      <td>1.0</td>\n",
       "    </tr>\n",
       "  </tbody>\n",
       "</table>\n",
       "</div>"
      ],
      "text/plain": [
       "   id            name  parent_id\n",
       "0   1         Technic        NaN\n",
       "1   2  Arctic Technic        1.0"
      ]
     },
     "metadata": {},
     "output_type": "display_data"
    },
    {
     "name": "stdout",
     "output_type": "stream",
     "text": [
      "(535, 3)\n"
     ]
    }
   ],
   "source": [
    "sets = pd.read_csv('sets.csv', parse_dates=['year'])\n",
    "themes = pd.read_csv('themes.csv')\n",
    "display(sets.head(2))\n",
    "print(sets.shape)\n",
    "display(themes.head(2))\n",
    "print(themes.shape)"
   ]
  },
  {
   "cell_type": "markdown",
   "metadata": {},
   "source": [
    "## prepare and merge sets and themes"
   ]
  },
  {
   "cell_type": "code",
   "execution_count": 3,
   "metadata": {
    "ExecuteTime": {
     "end_time": "2021-08-23T09:41:44.808098Z",
     "start_time": "2021-08-23T09:41:44.792473Z"
    }
   },
   "outputs": [
    {
     "name": "stdout",
     "output_type": "stream",
     "text": [
      "509\n",
      "535\n",
      "59\n"
     ]
    }
   ],
   "source": [
    "print(sets['theme_id'].nunique())\n",
    "print(themes['id'].nunique())\n",
    "print(themes['parent_id'].nunique())"
   ]
  },
  {
   "cell_type": "code",
   "execution_count": 4,
   "metadata": {
    "ExecuteTime": {
     "end_time": "2021-08-23T09:41:44.823722Z",
     "start_time": "2021-08-23T09:41:44.808098Z"
    }
   },
   "outputs": [
    {
     "data": {
      "text/plain": [
       "parent_id\n",
       "324.0    38\n",
       "535.0    37\n",
       "504.0    31\n",
       "126.0    20\n",
       "507.0    18\n",
       "Name: id, dtype: int64"
      ]
     },
     "metadata": {},
     "output_type": "display_data"
    }
   ],
   "source": [
    "display(themes.groupby('parent_id')['id'].count().sort_values(ascending=False).head())"
   ]
  },
  {
   "cell_type": "code",
   "execution_count": 5,
   "metadata": {
    "ExecuteTime": {
     "end_time": "2021-08-23T09:41:44.854971Z",
     "start_time": "2021-08-23T09:41:44.823722Z"
    }
   },
   "outputs": [
    {
     "data": {
      "text/html": [
       "<div>\n",
       "<style scoped>\n",
       "    .dataframe tbody tr th:only-of-type {\n",
       "        vertical-align: middle;\n",
       "    }\n",
       "\n",
       "    .dataframe tbody tr th {\n",
       "        vertical-align: top;\n",
       "    }\n",
       "\n",
       "    .dataframe thead th {\n",
       "        text-align: right;\n",
       "    }\n",
       "</style>\n",
       "<table border=\"1\" class=\"dataframe\">\n",
       "  <thead>\n",
       "    <tr style=\"text-align: right;\">\n",
       "      <th></th>\n",
       "      <th>id</th>\n",
       "      <th>name</th>\n",
       "      <th>parent_id</th>\n",
       "    </tr>\n",
       "  </thead>\n",
       "  <tbody>\n",
       "    <tr>\n",
       "      <th>23</th>\n",
       "      <td>24</td>\n",
       "      <td>Airport</td>\n",
       "      <td>23.0</td>\n",
       "    </tr>\n",
       "    <tr>\n",
       "      <th>26</th>\n",
       "      <td>27</td>\n",
       "      <td>Race</td>\n",
       "      <td>23.0</td>\n",
       "    </tr>\n",
       "    <tr>\n",
       "      <th>27</th>\n",
       "      <td>28</td>\n",
       "      <td>Harbor</td>\n",
       "      <td>23.0</td>\n",
       "    </tr>\n",
       "    <tr>\n",
       "      <th>28</th>\n",
       "      <td>29</td>\n",
       "      <td>Train</td>\n",
       "      <td>23.0</td>\n",
       "    </tr>\n",
       "    <tr>\n",
       "      <th>31</th>\n",
       "      <td>32</td>\n",
       "      <td>Robot</td>\n",
       "      <td>23.0</td>\n",
       "    </tr>\n",
       "    <tr>\n",
       "      <th>34</th>\n",
       "      <td>35</td>\n",
       "      <td>Cargo</td>\n",
       "      <td>23.0</td>\n",
       "    </tr>\n",
       "    <tr>\n",
       "      <th>36</th>\n",
       "      <td>38</td>\n",
       "      <td>Model</td>\n",
       "      <td>22.0</td>\n",
       "    </tr>\n",
       "    <tr>\n",
       "      <th>37</th>\n",
       "      <td>39</td>\n",
       "      <td>Traffic</td>\n",
       "      <td>38.0</td>\n",
       "    </tr>\n",
       "    <tr>\n",
       "      <th>38</th>\n",
       "      <td>40</td>\n",
       "      <td>Creature</td>\n",
       "      <td>38.0</td>\n",
       "    </tr>\n",
       "    <tr>\n",
       "      <th>39</th>\n",
       "      <td>42</td>\n",
       "      <td>Airport</td>\n",
       "      <td>38.0</td>\n",
       "    </tr>\n",
       "    <tr>\n",
       "      <th>40</th>\n",
       "      <td>43</td>\n",
       "      <td>Building</td>\n",
       "      <td>38.0</td>\n",
       "    </tr>\n",
       "    <tr>\n",
       "      <th>41</th>\n",
       "      <td>44</td>\n",
       "      <td>Recreation</td>\n",
       "      <td>38.0</td>\n",
       "    </tr>\n",
       "    <tr>\n",
       "      <th>42</th>\n",
       "      <td>45</td>\n",
       "      <td>Cargo</td>\n",
       "      <td>38.0</td>\n",
       "    </tr>\n",
       "    <tr>\n",
       "      <th>43</th>\n",
       "      <td>46</td>\n",
       "      <td>Harbor</td>\n",
       "      <td>38.0</td>\n",
       "    </tr>\n",
       "    <tr>\n",
       "      <th>45</th>\n",
       "      <td>49</td>\n",
       "      <td>Mecha</td>\n",
       "      <td>22.0</td>\n",
       "    </tr>\n",
       "    <tr>\n",
       "      <th>78</th>\n",
       "      <td>115</td>\n",
       "      <td>Lamborghini</td>\n",
       "      <td>112.0</td>\n",
       "    </tr>\n",
       "    <tr>\n",
       "      <th>84</th>\n",
       "      <td>121</td>\n",
       "      <td>Track System</td>\n",
       "      <td>112.0</td>\n",
       "    </tr>\n",
       "    <tr>\n",
       "      <th>162</th>\n",
       "      <td>240</td>\n",
       "      <td>RC Train</td>\n",
       "      <td>233.0</td>\n",
       "    </tr>\n",
       "    <tr>\n",
       "      <th>163</th>\n",
       "      <td>241</td>\n",
       "      <td>Supplemental</td>\n",
       "      <td>233.0</td>\n",
       "    </tr>\n",
       "    <tr>\n",
       "      <th>195</th>\n",
       "      <td>296</td>\n",
       "      <td>Adventurers</td>\n",
       "      <td>NaN</td>\n",
       "    </tr>\n",
       "    <tr>\n",
       "      <th>304</th>\n",
       "      <td>436</td>\n",
       "      <td>Airjitzu</td>\n",
       "      <td>435.0</td>\n",
       "    </tr>\n",
       "    <tr>\n",
       "      <th>312</th>\n",
       "      <td>448</td>\n",
       "      <td>Fabuland</td>\n",
       "      <td>443.0</td>\n",
       "    </tr>\n",
       "    <tr>\n",
       "      <th>322</th>\n",
       "      <td>465</td>\n",
       "      <td>Universal Building Set</td>\n",
       "      <td>NaN</td>\n",
       "    </tr>\n",
       "    <tr>\n",
       "      <th>398</th>\n",
       "      <td>561</td>\n",
       "      <td>The Hobbit and Lord of the Rings</td>\n",
       "      <td>NaN</td>\n",
       "    </tr>\n",
       "    <tr>\n",
       "      <th>410</th>\n",
       "      <td>580</td>\n",
       "      <td>Mixels</td>\n",
       "      <td>NaN</td>\n",
       "    </tr>\n",
       "    <tr>\n",
       "      <th>534</th>\n",
       "      <td>716</td>\n",
       "      <td>Modulex</td>\n",
       "      <td>NaN</td>\n",
       "    </tr>\n",
       "  </tbody>\n",
       "</table>\n",
       "</div>"
      ],
      "text/plain": [
       "      id                              name  parent_id\n",
       "23    24                           Airport       23.0\n",
       "26    27                              Race       23.0\n",
       "27    28                            Harbor       23.0\n",
       "28    29                             Train       23.0\n",
       "31    32                             Robot       23.0\n",
       "34    35                             Cargo       23.0\n",
       "36    38                             Model       22.0\n",
       "37    39                           Traffic       38.0\n",
       "38    40                          Creature       38.0\n",
       "39    42                           Airport       38.0\n",
       "40    43                          Building       38.0\n",
       "41    44                        Recreation       38.0\n",
       "42    45                             Cargo       38.0\n",
       "43    46                            Harbor       38.0\n",
       "45    49                             Mecha       22.0\n",
       "78   115                       Lamborghini      112.0\n",
       "84   121                      Track System      112.0\n",
       "162  240                          RC Train      233.0\n",
       "163  241                      Supplemental      233.0\n",
       "195  296                       Adventurers        NaN\n",
       "304  436                          Airjitzu      435.0\n",
       "312  448                          Fabuland      443.0\n",
       "322  465            Universal Building Set        NaN\n",
       "398  561  The Hobbit and Lord of the Rings        NaN\n",
       "410  580                            Mixels        NaN\n",
       "534  716                           Modulex        NaN"
      ]
     },
     "metadata": {},
     "output_type": "display_data"
    }
   ],
   "source": [
    "# themes not used for sets\n",
    "mask = ~themes['id'].isin(sets['theme_id'])\n",
    "display(themes[mask])"
   ]
  },
  {
   "cell_type": "code",
   "execution_count": 6,
   "metadata": {
    "ExecuteTime": {
     "end_time": "2021-08-23T09:41:44.892736Z",
     "start_time": "2021-08-23T09:41:44.854971Z"
    }
   },
   "outputs": [
    {
     "data": {
      "text/html": [
       "<div>\n",
       "<style scoped>\n",
       "    .dataframe tbody tr th:only-of-type {\n",
       "        vertical-align: middle;\n",
       "    }\n",
       "\n",
       "    .dataframe tbody tr th {\n",
       "        vertical-align: top;\n",
       "    }\n",
       "\n",
       "    .dataframe thead th {\n",
       "        text-align: right;\n",
       "    }\n",
       "</style>\n",
       "<table border=\"1\" class=\"dataframe\">\n",
       "  <thead>\n",
       "    <tr style=\"text-align: right;\">\n",
       "      <th></th>\n",
       "      <th>set_num</th>\n",
       "      <th>name_of_set</th>\n",
       "      <th>year</th>\n",
       "      <th>theme_id</th>\n",
       "      <th>num_parts</th>\n",
       "      <th>id</th>\n",
       "      <th>name_of_theme</th>\n",
       "      <th>parent_id</th>\n",
       "    </tr>\n",
       "  </thead>\n",
       "  <tbody>\n",
       "    <tr>\n",
       "      <th>18019</th>\n",
       "      <td>9754-1</td>\n",
       "      <td>Dark Side Developer Kit</td>\n",
       "      <td>2000-01-01</td>\n",
       "      <td>261</td>\n",
       "      <td>578</td>\n",
       "      <td>261</td>\n",
       "      <td>Star Wars</td>\n",
       "      <td>258.0</td>\n",
       "    </tr>\n",
       "    <tr>\n",
       "      <th>18020</th>\n",
       "      <td>WEETABIX1-1</td>\n",
       "      <td>Weetabix Castle</td>\n",
       "      <td>1970-01-01</td>\n",
       "      <td>414</td>\n",
       "      <td>471</td>\n",
       "      <td>414</td>\n",
       "      <td>Castle</td>\n",
       "      <td>411.0</td>\n",
       "    </tr>\n",
       "  </tbody>\n",
       "</table>\n",
       "</div>"
      ],
      "text/plain": [
       "           set_num              name_of_set       year  theme_id  num_parts  \\\n",
       "18019       9754-1  Dark Side Developer Kit 2000-01-01       261        578   \n",
       "18020  WEETABIX1-1          Weetabix Castle 1970-01-01       414        471   \n",
       "\n",
       "        id name_of_theme  parent_id  \n",
       "18019  261     Star Wars      258.0  \n",
       "18020  414        Castle      411.0  "
      ]
     },
     "metadata": {},
     "output_type": "display_data"
    }
   ],
   "source": [
    "df_merged = sets.merge(themes, left_on='theme_id', right_on='id', suffixes=['_of_set', '_of_theme'])\n",
    "display(df_merged.tail(2))"
   ]
  },
  {
   "cell_type": "code",
   "execution_count": 7,
   "metadata": {
    "ExecuteTime": {
     "end_time": "2021-08-23T09:41:44.923986Z",
     "start_time": "2021-08-23T09:41:44.892736Z"
    }
   },
   "outputs": [
    {
     "name": "stdout",
     "output_type": "stream",
     "text": [
      "(18021, 8)\n",
      "\n",
      "set_num             0\n",
      "name_of_set         0\n",
      "year                0\n",
      "theme_id            0\n",
      "num_parts           0\n",
      "id                  0\n",
      "name_of_theme       0\n",
      "parent_id        8156\n",
      "dtype: int64\n"
     ]
    }
   ],
   "source": [
    "print(df_merged.shape, '', df_merged.isna().sum(), sep='\\n')"
   ]
  },
  {
   "cell_type": "code",
   "execution_count": 8,
   "metadata": {
    "ExecuteTime": {
     "end_time": "2021-08-23T09:41:44.955237Z",
     "start_time": "2021-08-23T09:41:44.923986Z"
    }
   },
   "outputs": [
    {
     "name": "stdout",
     "output_type": "stream",
     "text": [
      "18021 \t set_num\n",
      "15412 \t name_of_set\n",
      "71 \t year\n",
      "509 \t theme_id\n",
      "1289 \t num_parts\n",
      "509 \t id\n",
      "412 \t name_of_theme\n",
      "58 \t parent_id\n"
     ]
    }
   ],
   "source": [
    "for col in df_merged.columns:\n",
    "    print(df_merged[col].nunique(), '\\t', col)"
   ]
  },
  {
   "cell_type": "markdown",
   "metadata": {
    "ExecuteTime": {
     "end_time": "2021-08-21T12:18:38.433444Z",
     "start_time": "2021-08-21T12:18:38.208125Z"
    }
   },
   "source": [
    "## group by year"
   ]
  },
  {
   "cell_type": "code",
   "execution_count": 9,
   "metadata": {
    "ExecuteTime": {
     "end_time": "2021-08-23T09:41:44.993003Z",
     "start_time": "2021-08-23T09:41:44.955237Z"
    }
   },
   "outputs": [
    {
     "name": "stdout",
     "output_type": "stream",
     "text": [
      "            count by year, all sets\n",
      "year                               \n",
      "1949-01-01                        5\n",
      "1950-01-01                        6\n",
      "1953-01-01                        4\n",
      "1954-01-01                       14\n",
      "1955-01-01                       28\n"
     ]
    },
    {
     "data": {
      "text/html": [
       "<div>\n",
       "<style scoped>\n",
       "    .dataframe tbody tr th:only-of-type {\n",
       "        vertical-align: middle;\n",
       "    }\n",
       "\n",
       "    .dataframe tbody tr th {\n",
       "        vertical-align: top;\n",
       "    }\n",
       "\n",
       "    .dataframe thead th {\n",
       "        text-align: right;\n",
       "    }\n",
       "</style>\n",
       "<table border=\"1\" class=\"dataframe\">\n",
       "  <thead>\n",
       "    <tr style=\"text-align: right;\">\n",
       "      <th></th>\n",
       "      <th>count by year, all sets</th>\n",
       "    </tr>\n",
       "    <tr>\n",
       "      <th>year</th>\n",
       "      <th></th>\n",
       "    </tr>\n",
       "  </thead>\n",
       "  <tbody>\n",
       "    <tr>\n",
       "      <th>1949-01-01</th>\n",
       "      <td>5</td>\n",
       "    </tr>\n",
       "    <tr>\n",
       "      <th>1950-01-01</th>\n",
       "      <td>6</td>\n",
       "    </tr>\n",
       "    <tr>\n",
       "      <th>1951-01-01</th>\n",
       "      <td>0</td>\n",
       "    </tr>\n",
       "    <tr>\n",
       "      <th>1952-01-01</th>\n",
       "      <td>0</td>\n",
       "    </tr>\n",
       "    <tr>\n",
       "      <th>1953-01-01</th>\n",
       "      <td>4</td>\n",
       "    </tr>\n",
       "  </tbody>\n",
       "</table>\n",
       "</div>"
      ],
      "text/plain": [
       "            count by year, all sets\n",
       "year                               \n",
       "1949-01-01                        5\n",
       "1950-01-01                        6\n",
       "1951-01-01                        0\n",
       "1952-01-01                        0\n",
       "1953-01-01                        4"
      ]
     },
     "metadata": {},
     "output_type": "display_data"
    }
   ],
   "source": [
    "df = df_merged.groupby('year')['name_of_set'].count().to_frame(name='count by year, all sets')\n",
    "print(df.head())\n",
    "df = df.asfreq('YS', fill_value=0)\n",
    "display(df.head())"
   ]
  },
  {
   "cell_type": "code",
   "execution_count": 10,
   "metadata": {
    "ExecuteTime": {
     "end_time": "2021-08-23T09:41:45.008625Z",
     "start_time": "2021-08-23T09:41:44.993003Z"
    }
   },
   "outputs": [
    {
     "data": {
      "text/html": [
       "<div>\n",
       "<style scoped>\n",
       "    .dataframe tbody tr th:only-of-type {\n",
       "        vertical-align: middle;\n",
       "    }\n",
       "\n",
       "    .dataframe tbody tr th {\n",
       "        vertical-align: top;\n",
       "    }\n",
       "\n",
       "    .dataframe thead th {\n",
       "        text-align: right;\n",
       "    }\n",
       "</style>\n",
       "<table border=\"1\" class=\"dataframe\">\n",
       "  <thead>\n",
       "    <tr style=\"text-align: right;\">\n",
       "      <th></th>\n",
       "      <th>count by year, all sets</th>\n",
       "    </tr>\n",
       "    <tr>\n",
       "      <th>year</th>\n",
       "      <th></th>\n",
       "    </tr>\n",
       "  </thead>\n",
       "  <tbody>\n",
       "    <tr>\n",
       "      <th>1951-01-01</th>\n",
       "      <td>0</td>\n",
       "    </tr>\n",
       "    <tr>\n",
       "      <th>1952-01-01</th>\n",
       "      <td>0</td>\n",
       "    </tr>\n",
       "  </tbody>\n",
       "</table>\n",
       "</div>"
      ],
      "text/plain": [
       "            count by year, all sets\n",
       "year                               \n",
       "1951-01-01                        0\n",
       "1952-01-01                        0"
      ]
     },
     "metadata": {},
     "output_type": "display_data"
    }
   ],
   "source": [
    "display(df[df['count by year, all sets'] == 0])"
   ]
  },
  {
   "cell_type": "code",
   "execution_count": 11,
   "metadata": {
    "ExecuteTime": {
     "end_time": "2021-08-23T09:41:45.367180Z",
     "start_time": "2021-08-23T09:41:45.008625Z"
    }
   },
   "outputs": [
    {
     "data": {
      "image/png": "[encoded data removed]",
      "text/plain": [
       "<Figure size 432x288 with 1 Axes>"
      ]
     },
     "metadata": {
      "needs_background": "light"
     },
     "output_type": "display_data"
    }
   ],
   "source": [
    "fig, ax = plt.subplots()\n",
    "df.plot(title='Number of Lego Sets per Year', color='black', ax=ax)\n",
    "df.rolling(5).mean().plot(ls='dashed', color='grey', ax=ax)\n",
    "ax.legend(['Actual Values', 'Rolling Mean over 5 Years'])\n",
    "plt.xlabel('')\n",
    "plt.savefig('Lego Sets per Year.png');"
   ]
  },
  {
   "cell_type": "code",
   "execution_count": 12,
   "metadata": {
    "ExecuteTime": {
     "end_time": "2021-08-23T09:41:45.603193Z",
     "start_time": "2021-08-23T09:41:45.369173Z"
    }
   },
   "outputs": [
    {
     "data": {
      "image/png": "[encoded data removed]",
      "text/plain": [
       "<Figure size 1152x216 with 1 Axes>"
      ]
     },
     "metadata": {
      "needs_background": "light"
     },
     "output_type": "display_data"
    }
   ],
   "source": [
    "df.plot(figsize=(16,3))\n",
    "plt.grid(which='both', )"
   ]
  },
  {
   "cell_type": "code",
   "execution_count": 13,
   "metadata": {
    "ExecuteTime": {
     "end_time": "2021-08-23T09:41:45.804959Z",
     "start_time": "2021-08-23T09:41:45.606190Z"
    }
   },
   "outputs": [
    {
     "data": {
      "image/png": "[encoded data removed]",
      "text/plain": [
       "<Figure size 432x288 with 1 Axes>"
      ]
     },
     "metadata": {
      "needs_background": "light"
     },
     "output_type": "display_data"
    }
   ],
   "source": [
    "sns.boxplot(df, color='lightgrey')\n",
    "plt.title('Distribution of Sets per Year')\n",
    "plt.savefig('Distribution of Sets per Year');"
   ]
  },
  {
   "cell_type": "markdown",
   "metadata": {},
   "source": [
    "## add parent themes"
   ]
  },
  {
   "cell_type": "code",
   "execution_count": 14,
   "metadata": {
    "ExecuteTime": {
     "end_time": "2021-08-23T09:41:45.867469Z",
     "start_time": "2021-08-23T09:41:45.804959Z"
    }
   },
   "outputs": [
    {
     "name": "stdout",
     "output_type": "stream",
     "text": [
      "(18021, 8) (18021, 11)\n"
     ]
    },
    {
     "data": {
      "text/html": [
       "<div>\n",
       "<style scoped>\n",
       "    .dataframe tbody tr th:only-of-type {\n",
       "        vertical-align: middle;\n",
       "    }\n",
       "\n",
       "    .dataframe tbody tr th {\n",
       "        vertical-align: top;\n",
       "    }\n",
       "\n",
       "    .dataframe thead th {\n",
       "        text-align: right;\n",
       "    }\n",
       "</style>\n",
       "<table border=\"1\" class=\"dataframe\">\n",
       "  <thead>\n",
       "    <tr style=\"text-align: right;\">\n",
       "      <th></th>\n",
       "      <th>set_num</th>\n",
       "      <th>name_of_set</th>\n",
       "      <th>year</th>\n",
       "      <th>theme_id</th>\n",
       "      <th>num_parts</th>\n",
       "      <th>id_merged</th>\n",
       "      <th>name_of_theme</th>\n",
       "      <th>parent_id_merged</th>\n",
       "      <th>id_themes</th>\n",
       "      <th>name</th>\n",
       "      <th>parent_id_themes</th>\n",
       "    </tr>\n",
       "  </thead>\n",
       "  <tbody>\n",
       "    <tr>\n",
       "      <th>0</th>\n",
       "      <td>001-1</td>\n",
       "      <td>Gears</td>\n",
       "      <td>1965-01-01</td>\n",
       "      <td>1</td>\n",
       "      <td>43</td>\n",
       "      <td>1</td>\n",
       "      <td>Technic</td>\n",
       "      <td>NaN</td>\n",
       "      <td>NaN</td>\n",
       "      <td>NaN</td>\n",
       "      <td>NaN</td>\n",
       "    </tr>\n",
       "    <tr>\n",
       "      <th>1</th>\n",
       "      <td>002-1</td>\n",
       "      <td>4.5V Samsonite Gears Motor Set</td>\n",
       "      <td>1965-01-01</td>\n",
       "      <td>1</td>\n",
       "      <td>3</td>\n",
       "      <td>1</td>\n",
       "      <td>Technic</td>\n",
       "      <td>NaN</td>\n",
       "      <td>NaN</td>\n",
       "      <td>NaN</td>\n",
       "      <td>NaN</td>\n",
       "    </tr>\n",
       "  </tbody>\n",
       "</table>\n",
       "</div>"
      ],
      "text/plain": [
       "  set_num                     name_of_set       year  theme_id  num_parts  \\\n",
       "0   001-1                           Gears 1965-01-01         1         43   \n",
       "1   002-1  4.5V Samsonite Gears Motor Set 1965-01-01         1          3   \n",
       "\n",
       "   id_merged name_of_theme  parent_id_merged  id_themes name  parent_id_themes  \n",
       "0          1       Technic               NaN        NaN  NaN               NaN  \n",
       "1          1       Technic               NaN        NaN  NaN               NaN  "
      ]
     },
     "metadata": {},
     "output_type": "display_data"
    },
    {
     "data": {
      "text/html": [
       "<div>\n",
       "<style scoped>\n",
       "    .dataframe tbody tr th:only-of-type {\n",
       "        vertical-align: middle;\n",
       "    }\n",
       "\n",
       "    .dataframe tbody tr th {\n",
       "        vertical-align: top;\n",
       "    }\n",
       "\n",
       "    .dataframe thead th {\n",
       "        text-align: right;\n",
       "    }\n",
       "</style>\n",
       "<table border=\"1\" class=\"dataframe\">\n",
       "  <thead>\n",
       "    <tr style=\"text-align: right;\">\n",
       "      <th></th>\n",
       "      <th>set_num</th>\n",
       "      <th>name_of_set</th>\n",
       "      <th>year</th>\n",
       "      <th>theme_id</th>\n",
       "      <th>num_parts</th>\n",
       "      <th>id_merged</th>\n",
       "      <th>name_of_theme</th>\n",
       "      <th>parent_id_merged</th>\n",
       "      <th>id_themes</th>\n",
       "      <th>name</th>\n",
       "      <th>parent_id_themes</th>\n",
       "    </tr>\n",
       "  </thead>\n",
       "  <tbody>\n",
       "    <tr>\n",
       "      <th>18019</th>\n",
       "      <td>9754-1</td>\n",
       "      <td>Dark Side Developer Kit</td>\n",
       "      <td>2000-01-01</td>\n",
       "      <td>261</td>\n",
       "      <td>578</td>\n",
       "      <td>261</td>\n",
       "      <td>Star Wars</td>\n",
       "      <td>258.0</td>\n",
       "      <td>258.0</td>\n",
       "      <td>Mindstorms</td>\n",
       "      <td>NaN</td>\n",
       "    </tr>\n",
       "    <tr>\n",
       "      <th>18020</th>\n",
       "      <td>WEETABIX1-1</td>\n",
       "      <td>Weetabix Castle</td>\n",
       "      <td>1970-01-01</td>\n",
       "      <td>414</td>\n",
       "      <td>471</td>\n",
       "      <td>414</td>\n",
       "      <td>Castle</td>\n",
       "      <td>411.0</td>\n",
       "      <td>411.0</td>\n",
       "      <td>Legoland</td>\n",
       "      <td>NaN</td>\n",
       "    </tr>\n",
       "  </tbody>\n",
       "</table>\n",
       "</div>"
      ],
      "text/plain": [
       "           set_num              name_of_set       year  theme_id  num_parts  \\\n",
       "18019       9754-1  Dark Side Developer Kit 2000-01-01       261        578   \n",
       "18020  WEETABIX1-1          Weetabix Castle 1970-01-01       414        471   \n",
       "\n",
       "       id_merged name_of_theme  parent_id_merged  id_themes        name  \\\n",
       "18019        261     Star Wars             258.0      258.0  Mindstorms   \n",
       "18020        414        Castle             411.0      411.0    Legoland   \n",
       "\n",
       "       parent_id_themes  \n",
       "18019               NaN  \n",
       "18020               NaN  "
      ]
     },
     "metadata": {},
     "output_type": "display_data"
    }
   ],
   "source": [
    "df_full = df_merged.merge(themes, how='left', left_on='parent_id', right_on='id',\n",
    "                          suffixes=['_merged', '_themes'])\n",
    "print(df_merged.shape, df_full.shape)\n",
    "display(df_full.head(2))\n",
    "display(df_full.tail(2))"
   ]
  },
  {
   "cell_type": "code",
   "execution_count": 15,
   "metadata": {
    "ExecuteTime": {
     "end_time": "2021-08-23T09:41:45.910244Z",
     "start_time": "2021-08-23T09:41:45.867469Z"
    }
   },
   "outputs": [
    {
     "data": {
      "text/html": [
       "<div>\n",
       "<style scoped>\n",
       "    .dataframe tbody tr th:only-of-type {\n",
       "        vertical-align: middle;\n",
       "    }\n",
       "\n",
       "    .dataframe tbody tr th {\n",
       "        vertical-align: top;\n",
       "    }\n",
       "\n",
       "    .dataframe thead th {\n",
       "        text-align: right;\n",
       "    }\n",
       "</style>\n",
       "<table border=\"1\" class=\"dataframe\">\n",
       "  <thead>\n",
       "    <tr style=\"text-align: right;\">\n",
       "      <th></th>\n",
       "      <th>set_num</th>\n",
       "      <th>name_of_set</th>\n",
       "      <th>year</th>\n",
       "      <th>num_parts</th>\n",
       "      <th>name_of_theme</th>\n",
       "      <th>name</th>\n",
       "    </tr>\n",
       "  </thead>\n",
       "  <tbody>\n",
       "    <tr>\n",
       "      <th>0</th>\n",
       "      <td>001-1</td>\n",
       "      <td>Gears</td>\n",
       "      <td>1965-01-01</td>\n",
       "      <td>43</td>\n",
       "      <td>Technic</td>\n",
       "      <td>NaN</td>\n",
       "    </tr>\n",
       "    <tr>\n",
       "      <th>1</th>\n",
       "      <td>002-1</td>\n",
       "      <td>4.5V Samsonite Gears Motor Set</td>\n",
       "      <td>1965-01-01</td>\n",
       "      <td>3</td>\n",
       "      <td>Technic</td>\n",
       "      <td>NaN</td>\n",
       "    </tr>\n",
       "  </tbody>\n",
       "</table>\n",
       "</div>"
      ],
      "text/plain": [
       "  set_num                     name_of_set       year  num_parts name_of_theme  \\\n",
       "0   001-1                           Gears 1965-01-01         43       Technic   \n",
       "1   002-1  4.5V Samsonite Gears Motor Set 1965-01-01          3       Technic   \n",
       "\n",
       "  name  \n",
       "0  NaN  \n",
       "1  NaN  "
      ]
     },
     "metadata": {},
     "output_type": "display_data"
    }
   ],
   "source": [
    "df_full.drop(columns=['id_merged', 'parent_id_merged', 'parent_id_themes',\n",
    "                      'theme_id', 'id_themes'],\n",
    "             inplace=True)\n",
    "display(df_full.head(2))"
   ]
  },
  {
   "cell_type": "code",
   "execution_count": 16,
   "metadata": {
    "ExecuteTime": {
     "end_time": "2021-08-23T09:41:45.941493Z",
     "start_time": "2021-08-23T09:41:45.910244Z"
    }
   },
   "outputs": [
    {
     "data": {
      "text/html": [
       "<div>\n",
       "<style scoped>\n",
       "    .dataframe tbody tr th:only-of-type {\n",
       "        vertical-align: middle;\n",
       "    }\n",
       "\n",
       "    .dataframe tbody tr th {\n",
       "        vertical-align: top;\n",
       "    }\n",
       "\n",
       "    .dataframe thead th {\n",
       "        text-align: right;\n",
       "    }\n",
       "</style>\n",
       "<table border=\"1\" class=\"dataframe\">\n",
       "  <thead>\n",
       "    <tr style=\"text-align: right;\">\n",
       "      <th></th>\n",
       "      <th>set_num</th>\n",
       "      <th>name_of_set</th>\n",
       "      <th>year</th>\n",
       "      <th>num_parts</th>\n",
       "      <th>name_of_theme</th>\n",
       "      <th>name</th>\n",
       "    </tr>\n",
       "  </thead>\n",
       "  <tbody>\n",
       "    <tr>\n",
       "      <th>0</th>\n",
       "      <td>001-1</td>\n",
       "      <td>Gears</td>\n",
       "      <td>1965-01-01</td>\n",
       "      <td>43</td>\n",
       "      <td>Technic</td>\n",
       "      <td>Technic</td>\n",
       "    </tr>\n",
       "    <tr>\n",
       "      <th>1</th>\n",
       "      <td>002-1</td>\n",
       "      <td>4.5V Samsonite Gears Motor Set</td>\n",
       "      <td>1965-01-01</td>\n",
       "      <td>3</td>\n",
       "      <td>Technic</td>\n",
       "      <td>Technic</td>\n",
       "    </tr>\n",
       "  </tbody>\n",
       "</table>\n",
       "</div>"
      ],
      "text/plain": [
       "  set_num                     name_of_set       year  num_parts name_of_theme  \\\n",
       "0   001-1                           Gears 1965-01-01         43       Technic   \n",
       "1   002-1  4.5V Samsonite Gears Motor Set 1965-01-01          3       Technic   \n",
       "\n",
       "      name  \n",
       "0  Technic  \n",
       "1  Technic  "
      ]
     },
     "metadata": {},
     "output_type": "display_data"
    },
    {
     "data": {
      "text/html": [
       "<div>\n",
       "<style scoped>\n",
       "    .dataframe tbody tr th:only-of-type {\n",
       "        vertical-align: middle;\n",
       "    }\n",
       "\n",
       "    .dataframe tbody tr th {\n",
       "        vertical-align: top;\n",
       "    }\n",
       "\n",
       "    .dataframe thead th {\n",
       "        text-align: right;\n",
       "    }\n",
       "</style>\n",
       "<table border=\"1\" class=\"dataframe\">\n",
       "  <thead>\n",
       "    <tr style=\"text-align: right;\">\n",
       "      <th></th>\n",
       "      <th>set_num</th>\n",
       "      <th>name_of_set</th>\n",
       "      <th>year</th>\n",
       "      <th>num_parts</th>\n",
       "      <th>name_of_theme</th>\n",
       "      <th>name</th>\n",
       "    </tr>\n",
       "  </thead>\n",
       "  <tbody>\n",
       "    <tr>\n",
       "      <th>18019</th>\n",
       "      <td>9754-1</td>\n",
       "      <td>Dark Side Developer Kit</td>\n",
       "      <td>2000-01-01</td>\n",
       "      <td>578</td>\n",
       "      <td>Star Wars</td>\n",
       "      <td>Mindstorms</td>\n",
       "    </tr>\n",
       "    <tr>\n",
       "      <th>18020</th>\n",
       "      <td>WEETABIX1-1</td>\n",
       "      <td>Weetabix Castle</td>\n",
       "      <td>1970-01-01</td>\n",
       "      <td>471</td>\n",
       "      <td>Castle</td>\n",
       "      <td>Legoland</td>\n",
       "    </tr>\n",
       "  </tbody>\n",
       "</table>\n",
       "</div>"
      ],
      "text/plain": [
       "           set_num              name_of_set       year  num_parts  \\\n",
       "18019       9754-1  Dark Side Developer Kit 2000-01-01        578   \n",
       "18020  WEETABIX1-1          Weetabix Castle 1970-01-01        471   \n",
       "\n",
       "      name_of_theme        name  \n",
       "18019     Star Wars  Mindstorms  \n",
       "18020        Castle    Legoland  "
      ]
     },
     "metadata": {},
     "output_type": "display_data"
    }
   ],
   "source": [
    "df_full['name'].fillna(value=df_full['name_of_theme'], inplace=True)\n",
    "display(df_full.head(2))\n",
    "display(df_full.tail(2))"
   ]
  },
  {
   "cell_type": "code",
   "execution_count": 17,
   "metadata": {
    "ExecuteTime": {
     "end_time": "2021-08-23T09:41:45.957117Z",
     "start_time": "2021-08-23T09:41:45.941493Z"
    }
   },
   "outputs": [
    {
     "name": "stdout",
     "output_type": "stream",
     "text": [
      "Gear                       2415\n",
      "Duplo                      1218\n",
      "Town                        904\n",
      "Star Wars                   827\n",
      "Collectible Minifigures     757\n",
      "Service Packs               637\n",
      "Educational and Dacta       583\n",
      "City                        527\n",
      "Creator                     519\n",
      "Friends                     452\n",
      "Name: name, dtype: int64\n"
     ]
    }
   ],
   "source": [
    "print(df_full['name'].value_counts().head(10))"
   ]
  },
  {
   "cell_type": "code",
   "execution_count": 18,
   "metadata": {
    "ExecuteTime": {
     "end_time": "2021-08-23T09:41:45.994884Z",
     "start_time": "2021-08-23T09:41:45.957117Z"
    }
   },
   "outputs": [
    {
     "data": {
      "text/html": [
       "<div>\n",
       "<style scoped>\n",
       "    .dataframe tbody tr th:only-of-type {\n",
       "        vertical-align: middle;\n",
       "    }\n",
       "\n",
       "    .dataframe tbody tr th {\n",
       "        vertical-align: top;\n",
       "    }\n",
       "\n",
       "    .dataframe thead th {\n",
       "        text-align: right;\n",
       "    }\n",
       "</style>\n",
       "<table border=\"1\" class=\"dataframe\">\n",
       "  <thead>\n",
       "    <tr style=\"text-align: right;\">\n",
       "      <th></th>\n",
       "      <th></th>\n",
       "      <th>set_theme_count</th>\n",
       "    </tr>\n",
       "    <tr>\n",
       "      <th>year</th>\n",
       "      <th>name</th>\n",
       "      <th></th>\n",
       "    </tr>\n",
       "  </thead>\n",
       "  <tbody>\n",
       "    <tr>\n",
       "      <th>1949-01-01</th>\n",
       "      <th>System</th>\n",
       "      <td>5</td>\n",
       "    </tr>\n",
       "    <tr>\n",
       "      <th>1950-01-01</th>\n",
       "      <th>System</th>\n",
       "      <td>6</td>\n",
       "    </tr>\n",
       "  </tbody>\n",
       "</table>\n",
       "</div>"
      ],
      "text/plain": [
       "                   set_theme_count\n",
       "year       name                   \n",
       "1949-01-01 System                5\n",
       "1950-01-01 System                6"
      ]
     },
     "metadata": {},
     "output_type": "display_data"
    },
    {
     "data": {
      "text/html": [
       "<div>\n",
       "<style scoped>\n",
       "    .dataframe tbody tr th:only-of-type {\n",
       "        vertical-align: middle;\n",
       "    }\n",
       "\n",
       "    .dataframe tbody tr th {\n",
       "        vertical-align: top;\n",
       "    }\n",
       "\n",
       "    .dataframe thead th {\n",
       "        text-align: right;\n",
       "    }\n",
       "</style>\n",
       "<table border=\"1\" class=\"dataframe\">\n",
       "  <thead>\n",
       "    <tr style=\"text-align: right;\">\n",
       "      <th></th>\n",
       "      <th></th>\n",
       "      <th>set_theme_count</th>\n",
       "    </tr>\n",
       "    <tr>\n",
       "      <th>year</th>\n",
       "      <th>name</th>\n",
       "      <th></th>\n",
       "    </tr>\n",
       "  </thead>\n",
       "  <tbody>\n",
       "    <tr>\n",
       "      <th rowspan=\"2\" valign=\"top\">2021-01-01</th>\n",
       "      <th>VIDIYO</th>\n",
       "      <td>30</td>\n",
       "    </tr>\n",
       "    <tr>\n",
       "      <th>Xtra</th>\n",
       "      <td>2</td>\n",
       "    </tr>\n",
       "  </tbody>\n",
       "</table>\n",
       "</div>"
      ],
      "text/plain": [
       "                   set_theme_count\n",
       "year       name                   \n",
       "2021-01-01 VIDIYO               30\n",
       "           Xtra                  2"
      ]
     },
     "metadata": {},
     "output_type": "display_data"
    }
   ],
   "source": [
    "df_themes = df_full.groupby(['year', 'name'])['set_num'].count().to_frame(name='set_theme_count')\n",
    "display(df_themes.head(2))\n",
    "display(df_themes.tail(2))"
   ]
  },
  {
   "cell_type": "markdown",
   "metadata": {},
   "source": [
    "### top 10 themes"
   ]
  },
  {
   "cell_type": "code",
   "execution_count": 19,
   "metadata": {
    "ExecuteTime": {
     "end_time": "2021-08-23T09:41:46.603312Z",
     "start_time": "2021-08-23T09:41:45.994884Z"
    }
   },
   "outputs": [
    {
     "data": {
      "text/html": [
       "<div>\n",
       "<style scoped>\n",
       "    .dataframe tbody tr th:only-of-type {\n",
       "        vertical-align: middle;\n",
       "    }\n",
       "\n",
       "    .dataframe tbody tr th {\n",
       "        vertical-align: top;\n",
       "    }\n",
       "\n",
       "    .dataframe thead th {\n",
       "        text-align: right;\n",
       "    }\n",
       "</style>\n",
       "<table border=\"1\" class=\"dataframe\">\n",
       "  <thead>\n",
       "    <tr style=\"text-align: right;\">\n",
       "      <th>name</th>\n",
       "      <th>4 Juniors</th>\n",
       "      <th>9V</th>\n",
       "      <th>Advent</th>\n",
       "      <th>Adventurers</th>\n",
       "      <th>Agents</th>\n",
       "      <th>Alpha Team</th>\n",
       "      <th>Angry Birds</th>\n",
       "      <th>Aquazone</th>\n",
       "      <th>Architecture</th>\n",
       "      <th>Atlantis</th>\n",
       "      <th>...</th>\n",
       "      <th>Unikitty!</th>\n",
       "      <th>Universal Building Set</th>\n",
       "      <th>Universe</th>\n",
       "      <th>VIDIYO</th>\n",
       "      <th>Value Packs</th>\n",
       "      <th>Vikings</th>\n",
       "      <th>Western</th>\n",
       "      <th>X-Pod</th>\n",
       "      <th>Xtra</th>\n",
       "      <th>Znap</th>\n",
       "    </tr>\n",
       "    <tr>\n",
       "      <th>year</th>\n",
       "      <th></th>\n",
       "      <th></th>\n",
       "      <th></th>\n",
       "      <th></th>\n",
       "      <th></th>\n",
       "      <th></th>\n",
       "      <th></th>\n",
       "      <th></th>\n",
       "      <th></th>\n",
       "      <th></th>\n",
       "      <th></th>\n",
       "      <th></th>\n",
       "      <th></th>\n",
       "      <th></th>\n",
       "      <th></th>\n",
       "      <th></th>\n",
       "      <th></th>\n",
       "      <th></th>\n",
       "      <th></th>\n",
       "      <th></th>\n",
       "      <th></th>\n",
       "    </tr>\n",
       "  </thead>\n",
       "  <tbody>\n",
       "    <tr>\n",
       "      <th>1949-01-01</th>\n",
       "      <td>NaN</td>\n",
       "      <td>NaN</td>\n",
       "      <td>NaN</td>\n",
       "      <td>NaN</td>\n",
       "      <td>NaN</td>\n",
       "      <td>NaN</td>\n",
       "      <td>NaN</td>\n",
       "      <td>NaN</td>\n",
       "      <td>NaN</td>\n",
       "      <td>NaN</td>\n",
       "      <td>...</td>\n",
       "      <td>NaN</td>\n",
       "      <td>NaN</td>\n",
       "      <td>NaN</td>\n",
       "      <td>NaN</td>\n",
       "      <td>NaN</td>\n",
       "      <td>NaN</td>\n",
       "      <td>NaN</td>\n",
       "      <td>NaN</td>\n",
       "      <td>NaN</td>\n",
       "      <td>NaN</td>\n",
       "    </tr>\n",
       "    <tr>\n",
       "      <th>1950-01-01</th>\n",
       "      <td>NaN</td>\n",
       "      <td>NaN</td>\n",
       "      <td>NaN</td>\n",
       "      <td>NaN</td>\n",
       "      <td>NaN</td>\n",
       "      <td>NaN</td>\n",
       "      <td>NaN</td>\n",
       "      <td>NaN</td>\n",
       "      <td>NaN</td>\n",
       "      <td>NaN</td>\n",
       "      <td>...</td>\n",
       "      <td>NaN</td>\n",
       "      <td>NaN</td>\n",
       "      <td>NaN</td>\n",
       "      <td>NaN</td>\n",
       "      <td>NaN</td>\n",
       "      <td>NaN</td>\n",
       "      <td>NaN</td>\n",
       "      <td>NaN</td>\n",
       "      <td>NaN</td>\n",
       "      <td>NaN</td>\n",
       "    </tr>\n",
       "  </tbody>\n",
       "</table>\n",
       "<p>2 rows × 142 columns</p>\n",
       "</div>"
      ],
      "text/plain": [
       "name        4 Juniors  9V  Advent  Adventurers  Agents  Alpha Team  \\\n",
       "year                                                                 \n",
       "1949-01-01        NaN NaN     NaN          NaN     NaN         NaN   \n",
       "1950-01-01        NaN NaN     NaN          NaN     NaN         NaN   \n",
       "\n",
       "name        Angry Birds  Aquazone  Architecture  Atlantis  ...  Unikitty!  \\\n",
       "year                                                       ...              \n",
       "1949-01-01          NaN       NaN           NaN       NaN  ...        NaN   \n",
       "1950-01-01          NaN       NaN           NaN       NaN  ...        NaN   \n",
       "\n",
       "name        Universal Building Set  Universe  VIDIYO  Value Packs  Vikings  \\\n",
       "year                                                                         \n",
       "1949-01-01                     NaN       NaN     NaN          NaN      NaN   \n",
       "1950-01-01                     NaN       NaN     NaN          NaN      NaN   \n",
       "\n",
       "name        Western  X-Pod  Xtra  Znap  \n",
       "year                                    \n",
       "1949-01-01      NaN    NaN   NaN   NaN  \n",
       "1950-01-01      NaN    NaN   NaN   NaN  \n",
       "\n",
       "[2 rows x 142 columns]"
      ]
     },
     "metadata": {},
     "output_type": "display_data"
    },
    {
     "data": {
      "image/png": "[encoded data removed]",
      "text/plain": [
       "<Figure size 432x288 with 1 Axes>"
      ]
     },
     "metadata": {
      "needs_background": "light"
     },
     "output_type": "display_data"
    }
   ],
   "source": [
    "df_unstacked = df_themes.unstack().droplevel(0, axis=1)\n",
    "display(df_unstacked.head(2))\n",
    "top_list = df_full['name'].value_counts().head(10).index.to_list()\n",
    "df_unstacked[top_list].plot(cmap='Paired',\n",
    "                            title='Distribution of Top 10 Lego themes over time')\n",
    "plt.legend(loc='upper left', bbox_to_anchor=(1,1))\n",
    "plt.xlabel('')\n",
    "plt.savefig('Top 10 Themes Distribution.png', bbox_inches='tight');"
   ]
  },
  {
   "cell_type": "markdown",
   "metadata": {},
   "source": [
    "### number of themes with sets published per year"
   ]
  },
  {
   "cell_type": "code",
   "execution_count": 20,
   "metadata": {
    "ExecuteTime": {
     "end_time": "2021-08-23T09:41:46.896181Z",
     "start_time": "2021-08-23T09:41:46.606316Z"
    }
   },
   "outputs": [
    {
     "data": {
      "image/png": "[encoded data removed]",
      "text/plain": [
       "<Figure size 432x288 with 1 Axes>"
      ]
     },
     "metadata": {
      "needs_background": "light"
     },
     "output_type": "display_data"
    }
   ],
   "source": [
    "df_themes2 = df_full.groupby(['year', 'name']).count().reset_index()\n",
    "df_themes2 = df_themes2.groupby('year')['name'].count()\n",
    "df_themes2.plot(color='black', title='Number of Themes with Sets Published per Year')\n",
    "df_themes2.rolling(5).mean().plot(ls='dashed', color='grey', title='Number of Themes with Sets Published per Year')\n",
    "plt.xlabel('')\n",
    "plt.legend(['Number of Themes', 'Rolling Mean over 5 Years'])\n",
    "plt.savefig('Lego Themes per Year.png')"
   ]
  },
  {
   "cell_type": "markdown",
   "metadata": {},
   "source": [
    "### sets per theme (no year)"
   ]
  },
  {
   "cell_type": "code",
   "execution_count": 21,
   "metadata": {
    "ExecuteTime": {
     "end_time": "2021-08-23T09:41:47.448700Z",
     "start_time": "2021-08-23T09:41:46.896181Z"
    }
   },
   "outputs": [
    {
     "name": "stdout",
     "output_type": "stream",
     "text": [
      "34.5\n"
     ]
    },
    {
     "data": {
      "image/png": "[encoded data removed]",
      "text/plain": [
       "<Figure size 432x288 with 1 Axes>"
      ]
     },
     "metadata": {
      "needs_background": "light"
     },
     "output_type": "display_data"
    }
   ],
   "source": [
    "df_sets_per_theme = df_full.groupby('name')['set_num'].count()\n",
    "print(df_sets_per_theme.median())\n",
    "\n",
    "df_sets_per_theme.plot(kind='hist', bins=100, color='black',\n",
    "                                               title='Distribution of Sets per Theme')\n",
    "plt.xlim(0, 1000)\n",
    "plt.axvline(75, ls='dotted', color='grey')\n",
    "plt.axvline(df_sets_per_theme.median(), ls='-.', color='grey')\n",
    "plt.legend(['bins of number of Sets per Theme', 'median value of dataset \"34.5\"', 'value \"75\"'])\n",
    "plt.text(1075, 5, '2 themes have more than 1000 sets:\\n\"Gear\": 2415 and \"Duplo\": 1218', \n",
    "         rotation=90, ha='right', va='bottom', fontdict=dict(ma='left', style='italic'))\n",
    "plt.savefig('Distribution of Sets per Theme.png')"
   ]
  },
  {
   "cell_type": "code",
   "execution_count": 22,
   "metadata": {
    "ExecuteTime": {
     "end_time": "2021-08-23T09:41:47.463700Z",
     "start_time": "2021-08-23T09:41:47.451700Z"
    }
   },
   "outputs": [
    {
     "data": {
      "text/plain": [
       "name\n",
       "Town      904\n",
       "Duplo    1218\n",
       "Gear     2415\n",
       "Name: set_num, dtype: int64"
      ]
     },
     "metadata": {},
     "output_type": "display_data"
    }
   ],
   "source": [
    "display(df_sets_per_theme.sort_values().tail(3))"
   ]
  },
  {
   "cell_type": "markdown",
   "metadata": {},
   "source": [
    "### number of parts per set"
   ]
  },
  {
   "cell_type": "code",
   "execution_count": 23,
   "metadata": {
    "ExecuteTime": {
     "end_time": "2021-08-23T09:41:48.073776Z",
     "start_time": "2021-08-23T09:41:47.469702Z"
    }
   },
   "outputs": [
    {
     "data": {
      "image/png": "[encoded data removed]",
      "text/plain": [
       "<Figure size 864x288 with 2 Axes>"
      ]
     },
     "metadata": {
      "needs_background": "light"
     },
     "output_type": "display_data"
    }
   ],
   "source": [
    "fig, (ax1, ax2) = plt.subplots(1,2, figsize=(12,4))\n",
    "sns.boxplot(x='num_parts', data=df_full, ax=ax1)\n",
    "ax1.set_title('Distribution of Parts per Set')\n",
    "ax1.set_xlabel('')\n",
    "df_parts_set = df_full.groupby('year')['num_parts'].sum()\n",
    "df_parts_set.plot(color='black', ax=ax2)\n",
    "df_parts_set.rolling(5).mean().plot(ls='dashed', color='grey', ax=ax2)\n",
    "ax2.set_title('Development of Parts in All Sets per Year')\n",
    "ax2.set_xlabel('')\n",
    "plt.savefig('Parts per Set', bbox_inches='tight')"
   ]
  },
  {
   "cell_type": "code",
   "execution_count": 24,
   "metadata": {
    "ExecuteTime": {
     "end_time": "2021-08-23T09:41:48.094062Z",
     "start_time": "2021-08-23T09:41:48.075800Z"
    }
   },
   "outputs": [
    {
     "data": {
      "text/plain": [
       "year\n",
       "1949-01-01       498\n",
       "1950-01-01         6\n",
       "1953-01-01        50\n",
       "1954-01-01       117\n",
       "1955-01-01       451\n",
       "               ...  \n",
       "2017-01-01    178465\n",
       "2018-01-01    171513\n",
       "2019-01-01    174660\n",
       "2020-01-01    211277\n",
       "2021-01-01    186186\n",
       "Name: num_parts, Length: 71, dtype: int64"
      ]
     },
     "execution_count": 24,
     "metadata": {},
     "output_type": "execute_result"
    }
   ],
   "source": [
    "df_full.groupby('year')['num_parts'].sum()"
   ]
  },
  {
   "cell_type": "code",
   "execution_count": 25,
   "metadata": {
    "ExecuteTime": {
     "end_time": "2021-08-23T09:41:48.134381Z",
     "start_time": "2021-08-23T09:41:48.096087Z"
    }
   },
   "outputs": [
    {
     "data": {
      "text/html": [
       "<div>\n",
       "<style scoped>\n",
       "    .dataframe tbody tr th:only-of-type {\n",
       "        vertical-align: middle;\n",
       "    }\n",
       "\n",
       "    .dataframe tbody tr th {\n",
       "        vertical-align: top;\n",
       "    }\n",
       "\n",
       "    .dataframe thead th {\n",
       "        text-align: right;\n",
       "    }\n",
       "</style>\n",
       "<table border=\"1\" class=\"dataframe\">\n",
       "  <thead>\n",
       "    <tr style=\"text-align: right;\">\n",
       "      <th></th>\n",
       "      <th>num_parts</th>\n",
       "      <th>set_num</th>\n",
       "      <th>name_of_set</th>\n",
       "      <th>name</th>\n",
       "      <th>year</th>\n",
       "    </tr>\n",
       "  </thead>\n",
       "  <tbody>\n",
       "    <tr>\n",
       "      <th>11459</th>\n",
       "      <td>5462</td>\n",
       "      <td>SWMP-1</td>\n",
       "      <td>Star Wars / M&amp;M Mosaic - Promo Set</td>\n",
       "      <td>Star Wars</td>\n",
       "      <td>2005-01-01</td>\n",
       "    </tr>\n",
       "    <tr>\n",
       "      <th>3570</th>\n",
       "      <td>5549</td>\n",
       "      <td>75978-1</td>\n",
       "      <td>Diagon Alley</td>\n",
       "      <td>Harry Potter</td>\n",
       "      <td>2020-01-01</td>\n",
       "    </tr>\n",
       "    <tr>\n",
       "      <th>7913</th>\n",
       "      <td>5709</td>\n",
       "      <td>71741-1</td>\n",
       "      <td>NINJAGO City Gardens</td>\n",
       "      <td>Ninjago</td>\n",
       "      <td>2021-01-01</td>\n",
       "    </tr>\n",
       "    <tr>\n",
       "      <th>2739</th>\n",
       "      <td>5922</td>\n",
       "      <td>10189-1</td>\n",
       "      <td>Taj Mahal</td>\n",
       "      <td>Creator</td>\n",
       "      <td>2008-01-01</td>\n",
       "    </tr>\n",
       "    <tr>\n",
       "      <th>2758</th>\n",
       "      <td>5923</td>\n",
       "      <td>10256-1</td>\n",
       "      <td>Taj Mahal</td>\n",
       "      <td>Creator</td>\n",
       "      <td>2017-01-01</td>\n",
       "    </tr>\n",
       "    <tr>\n",
       "      <th>3552</th>\n",
       "      <td>6020</td>\n",
       "      <td>71043-1</td>\n",
       "      <td>Hogwarts Castle</td>\n",
       "      <td>Harry Potter</td>\n",
       "      <td>2018-01-01</td>\n",
       "    </tr>\n",
       "    <tr>\n",
       "      <th>2594</th>\n",
       "      <td>7541</td>\n",
       "      <td>75192-1</td>\n",
       "      <td>UCS Millennium Falcon</td>\n",
       "      <td>Star Wars</td>\n",
       "      <td>2017-01-01</td>\n",
       "    </tr>\n",
       "    <tr>\n",
       "      <th>2770</th>\n",
       "      <td>9036</td>\n",
       "      <td>10276-1</td>\n",
       "      <td>Colosseum</td>\n",
       "      <td>Creator</td>\n",
       "      <td>2020-01-01</td>\n",
       "    </tr>\n",
       "    <tr>\n",
       "      <th>14046</th>\n",
       "      <td>9987</td>\n",
       "      <td>BIGBOX-1</td>\n",
       "      <td>The Ultimate Battle for Chima</td>\n",
       "      <td>Legends of Chima</td>\n",
       "      <td>2015-01-01</td>\n",
       "    </tr>\n",
       "    <tr>\n",
       "      <th>14879</th>\n",
       "      <td>11695</td>\n",
       "      <td>31203-1</td>\n",
       "      <td>World Map</td>\n",
       "      <td>LEGO Art</td>\n",
       "      <td>2021-01-01</td>\n",
       "    </tr>\n",
       "  </tbody>\n",
       "</table>\n",
       "</div>"
      ],
      "text/plain": [
       "       num_parts   set_num                         name_of_set  \\\n",
       "11459       5462    SWMP-1  Star Wars / M&M Mosaic - Promo Set   \n",
       "3570        5549   75978-1                        Diagon Alley   \n",
       "7913        5709   71741-1                NINJAGO City Gardens   \n",
       "2739        5922   10189-1                           Taj Mahal   \n",
       "2758        5923   10256-1                           Taj Mahal   \n",
       "3552        6020   71043-1                     Hogwarts Castle   \n",
       "2594        7541   75192-1               UCS Millennium Falcon   \n",
       "2770        9036   10276-1                           Colosseum   \n",
       "14046       9987  BIGBOX-1       The Ultimate Battle for Chima   \n",
       "14879      11695   31203-1                           World Map   \n",
       "\n",
       "                   name       year  \n",
       "11459         Star Wars 2005-01-01  \n",
       "3570       Harry Potter 2020-01-01  \n",
       "7913            Ninjago 2021-01-01  \n",
       "2739            Creator 2008-01-01  \n",
       "2758            Creator 2017-01-01  \n",
       "3552       Harry Potter 2018-01-01  \n",
       "2594          Star Wars 2017-01-01  \n",
       "2770            Creator 2020-01-01  \n",
       "14046  Legends of Chima 2015-01-01  \n",
       "14879          LEGO Art 2021-01-01  "
      ]
     },
     "metadata": {},
     "output_type": "display_data"
    }
   ],
   "source": [
    "display(df_full[df_full['num_parts'] > 5200][['num_parts', 'set_num', 'name_of_set', \n",
    "                                              'name', 'year']].sort_values('num_parts'))"
   ]
  },
  {
   "cell_type": "markdown",
   "metadata": {},
   "source": [
    "## Duplo"
   ]
  },
  {
   "cell_type": "code",
   "execution_count": 26,
   "metadata": {
    "ExecuteTime": {
     "end_time": "2021-08-23T09:41:48.154447Z",
     "start_time": "2021-08-23T09:41:48.136413Z"
    }
   },
   "outputs": [
    {
     "name": "stdout",
     "output_type": "stream",
     "text": [
      "(1218, 6)\n",
      "set_num          0\n",
      "name_of_set      0\n",
      "year             0\n",
      "num_parts        0\n",
      "name_of_theme    0\n",
      "name             0\n",
      "dtype: int64\n"
     ]
    }
   ],
   "source": [
    "df_duplo = df_full[df_full['name'] == 'Duplo']\n",
    "print(df_duplo.shape)\n",
    "print(df_duplo.isna().sum())"
   ]
  },
  {
   "cell_type": "code",
   "execution_count": 27,
   "metadata": {
    "ExecuteTime": {
     "end_time": "2021-08-23T09:41:48.170079Z",
     "start_time": "2021-08-23T09:41:48.154447Z"
    }
   },
   "outputs": [
    {
     "name": "stdout",
     "output_type": "stream",
     "text": [
      "year\n",
      "1969-01-01    2\n",
      "1970-01-01    2\n",
      "1971-01-01    0\n",
      "1972-01-01    1\n",
      "1973-01-01    2\n",
      "Freq: AS-JAN, Name: set_num, dtype: int64\n"
     ]
    }
   ],
   "source": [
    "df_duplo_grouped = df_duplo.groupby('year')['set_num'].count()\n",
    "df_duplo_grouped = df_duplo_grouped.asfreq('YS', fill_value=0)\n",
    "print(df_duplo_grouped.head())"
   ]
  },
  {
   "cell_type": "code",
   "execution_count": 28,
   "metadata": {
    "ExecuteTime": {
     "end_time": "2021-08-23T09:41:48.358093Z",
     "start_time": "2021-08-23T09:41:48.170079Z"
    }
   },
   "outputs": [
    {
     "data": {
      "image/png": "[encoded data removed]",
      "text/plain": [
       "<Figure size 432x288 with 1 Axes>"
      ]
     },
     "metadata": {
      "needs_background": "light"
     },
     "output_type": "display_data"
    }
   ],
   "source": [
    "sns.boxplot(df_duplo_grouped, color='lightgrey')\n",
    "plt.xlabel('')\n",
    "plt.title('Distribution of Duplo Sets per Year')\n",
    "plt.savefig('Distribution of Duplo Sets per Year.png');"
   ]
  },
  {
   "cell_type": "markdown",
   "metadata": {},
   "source": [
    "## Town and City"
   ]
  },
  {
   "cell_type": "code",
   "execution_count": 29,
   "metadata": {
    "ExecuteTime": {
     "end_time": "2021-08-23T09:41:48.374097Z",
     "start_time": "2021-08-23T09:41:48.361097Z"
    }
   },
   "outputs": [
    {
     "name": "stdout",
     "output_type": "stream",
     "text": [
      "(1431, 6)\n",
      "set_num          0\n",
      "name_of_set      0\n",
      "year             0\n",
      "num_parts        0\n",
      "name_of_theme    0\n",
      "name             0\n",
      "dtype: int64\n"
     ]
    }
   ],
   "source": [
    "df_towncity = df_full[df_full['name'].isin(['Town', 'City'])]\n",
    "print(df_towncity.shape)\n",
    "print(df_towncity.isna().sum())"
   ]
  },
  {
   "cell_type": "code",
   "execution_count": 30,
   "metadata": {
    "ExecuteTime": {
     "end_time": "2021-08-23T09:41:48.404094Z",
     "start_time": "2021-08-23T09:41:48.377093Z"
    }
   },
   "outputs": [
    {
     "data": {
      "text/html": [
       "<div>\n",
       "<style scoped>\n",
       "    .dataframe tbody tr th:only-of-type {\n",
       "        vertical-align: middle;\n",
       "    }\n",
       "\n",
       "    .dataframe tbody tr th {\n",
       "        vertical-align: top;\n",
       "    }\n",
       "\n",
       "    .dataframe thead th {\n",
       "        text-align: right;\n",
       "    }\n",
       "</style>\n",
       "<table border=\"1\" class=\"dataframe\">\n",
       "  <thead>\n",
       "    <tr style=\"text-align: right;\">\n",
       "      <th></th>\n",
       "      <th>set_num</th>\n",
       "      <th>name_of_set</th>\n",
       "      <th>year</th>\n",
       "      <th>num_parts</th>\n",
       "      <th>name_of_theme</th>\n",
       "      <th>name</th>\n",
       "    </tr>\n",
       "  </thead>\n",
       "  <tbody>\n",
       "    <tr>\n",
       "      <th>85</th>\n",
       "      <td>0011-2</td>\n",
       "      <td>Town Mini-Figures</td>\n",
       "      <td>1979-01-01</td>\n",
       "      <td>12</td>\n",
       "      <td>Classic Town</td>\n",
       "      <td>Town</td>\n",
       "    </tr>\n",
       "    <tr>\n",
       "      <th>86</th>\n",
       "      <td>00-6</td>\n",
       "      <td>Special Offer</td>\n",
       "      <td>1985-01-01</td>\n",
       "      <td>0</td>\n",
       "      <td>Classic Town</td>\n",
       "      <td>Town</td>\n",
       "    </tr>\n",
       "    <tr>\n",
       "      <th>87</th>\n",
       "      <td>105-1</td>\n",
       "      <td>Canada Post Truck</td>\n",
       "      <td>1984-01-01</td>\n",
       "      <td>65</td>\n",
       "      <td>Classic Town</td>\n",
       "      <td>Town</td>\n",
       "    </tr>\n",
       "    <tr>\n",
       "      <th>88</th>\n",
       "      <td>106-1</td>\n",
       "      <td>UNICEF Van</td>\n",
       "      <td>1985-01-01</td>\n",
       "      <td>59</td>\n",
       "      <td>Classic Town</td>\n",
       "      <td>Town</td>\n",
       "    </tr>\n",
       "    <tr>\n",
       "      <th>89</th>\n",
       "      <td>107-2</td>\n",
       "      <td>Canada Post Mail Truck</td>\n",
       "      <td>1985-01-01</td>\n",
       "      <td>138</td>\n",
       "      <td>Classic Town</td>\n",
       "      <td>Town</td>\n",
       "    </tr>\n",
       "    <tr>\n",
       "      <th>...</th>\n",
       "      <td>...</td>\n",
       "      <td>...</td>\n",
       "      <td>...</td>\n",
       "      <td>...</td>\n",
       "      <td>...</td>\n",
       "      <td>...</td>\n",
       "    </tr>\n",
       "    <tr>\n",
       "      <th>16542</th>\n",
       "      <td>6577-1</td>\n",
       "      <td>Snow Scooter</td>\n",
       "      <td>2000-01-01</td>\n",
       "      <td>21</td>\n",
       "      <td>Arctic</td>\n",
       "      <td>Town</td>\n",
       "    </tr>\n",
       "    <tr>\n",
       "      <th>16543</th>\n",
       "      <td>6578-1</td>\n",
       "      <td>Polar Explorer</td>\n",
       "      <td>2000-01-01</td>\n",
       "      <td>22</td>\n",
       "      <td>Arctic</td>\n",
       "      <td>Town</td>\n",
       "    </tr>\n",
       "    <tr>\n",
       "      <th>16544</th>\n",
       "      <td>6579-1</td>\n",
       "      <td>Ice Surfer</td>\n",
       "      <td>2000-01-01</td>\n",
       "      <td>43</td>\n",
       "      <td>Arctic</td>\n",
       "      <td>Town</td>\n",
       "    </tr>\n",
       "    <tr>\n",
       "      <th>16545</th>\n",
       "      <td>6586-1</td>\n",
       "      <td>Polar Scout</td>\n",
       "      <td>2000-01-01</td>\n",
       "      <td>56</td>\n",
       "      <td>Arctic</td>\n",
       "      <td>Town</td>\n",
       "    </tr>\n",
       "    <tr>\n",
       "      <th>16546</th>\n",
       "      <td>6626-2</td>\n",
       "      <td>Snow Scooter</td>\n",
       "      <td>2000-01-01</td>\n",
       "      <td>20</td>\n",
       "      <td>Arctic</td>\n",
       "      <td>Town</td>\n",
       "    </tr>\n",
       "  </tbody>\n",
       "</table>\n",
       "<p>1431 rows × 6 columns</p>\n",
       "</div>"
      ],
      "text/plain": [
       "      set_num             name_of_set       year  num_parts name_of_theme  \\\n",
       "85     0011-2       Town Mini-Figures 1979-01-01         12  Classic Town   \n",
       "86       00-6           Special Offer 1985-01-01          0  Classic Town   \n",
       "87      105-1       Canada Post Truck 1984-01-01         65  Classic Town   \n",
       "88      106-1              UNICEF Van 1985-01-01         59  Classic Town   \n",
       "89      107-2  Canada Post Mail Truck 1985-01-01        138  Classic Town   \n",
       "...       ...                     ...        ...        ...           ...   \n",
       "16542  6577-1            Snow Scooter 2000-01-01         21        Arctic   \n",
       "16543  6578-1          Polar Explorer 2000-01-01         22        Arctic   \n",
       "16544  6579-1              Ice Surfer 2000-01-01         43        Arctic   \n",
       "16545  6586-1             Polar Scout 2000-01-01         56        Arctic   \n",
       "16546  6626-2            Snow Scooter 2000-01-01         20        Arctic   \n",
       "\n",
       "       name  \n",
       "85     Town  \n",
       "86     Town  \n",
       "87     Town  \n",
       "88     Town  \n",
       "89     Town  \n",
       "...     ...  \n",
       "16542  Town  \n",
       "16543  Town  \n",
       "16544  Town  \n",
       "16545  Town  \n",
       "16546  Town  \n",
       "\n",
       "[1431 rows x 6 columns]"
      ]
     },
     "execution_count": 30,
     "metadata": {},
     "output_type": "execute_result"
    }
   ],
   "source": [
    "df_towncity"
   ]
  },
  {
   "cell_type": "code",
   "execution_count": 31,
   "metadata": {
    "ExecuteTime": {
     "end_time": "2021-08-23T09:41:48.420096Z",
     "start_time": "2021-08-23T09:41:48.406092Z"
    },
    "scrolled": true
   },
   "outputs": [
    {
     "name": "stdout",
     "output_type": "stream",
     "text": [
      "year        name\n",
      "1969-01-01  Town     1\n",
      "1978-01-01  Town    34\n",
      "1979-01-01  Town    19\n",
      "1980-01-01  Town    17\n",
      "1981-01-01  Town    15\n",
      "                    ..\n",
      "2019-01-01  Town    17\n",
      "2020-01-01  City    32\n",
      "            Town    25\n",
      "2021-01-01  City    14\n",
      "            Town    35\n",
      "Name: set_num, Length: 63, dtype: int64\n"
     ]
    }
   ],
   "source": [
    "print(df_towncity.groupby(['year', 'name'])['set_num'].count())"
   ]
  },
  {
   "cell_type": "code",
   "execution_count": 32,
   "metadata": {
    "ExecuteTime": {
     "end_time": "2021-08-23T09:41:48.484099Z",
     "start_time": "2021-08-23T09:41:48.423097Z"
    }
   },
   "outputs": [
    {
     "data": {
      "text/html": [
       "<div>\n",
       "<style scoped>\n",
       "    .dataframe tbody tr th:only-of-type {\n",
       "        vertical-align: middle;\n",
       "    }\n",
       "\n",
       "    .dataframe tbody tr th {\n",
       "        vertical-align: top;\n",
       "    }\n",
       "\n",
       "    .dataframe thead th {\n",
       "        text-align: right;\n",
       "    }\n",
       "</style>\n",
       "<table border=\"1\" class=\"dataframe\">\n",
       "  <thead>\n",
       "    <tr style=\"text-align: right;\">\n",
       "      <th></th>\n",
       "      <th>set_num</th>\n",
       "      <th>name_of_set</th>\n",
       "      <th>year</th>\n",
       "      <th>num_parts</th>\n",
       "      <th>name_of_theme</th>\n",
       "      <th>name</th>\n",
       "    </tr>\n",
       "  </thead>\n",
       "  <tbody>\n",
       "    <tr>\n",
       "      <th>3814</th>\n",
       "      <td>842-2</td>\n",
       "      <td>Town Plan</td>\n",
       "      <td>1969-01-01</td>\n",
       "      <td>797</td>\n",
       "      <td>Town Plan</td>\n",
       "      <td>Town</td>\n",
       "    </tr>\n",
       "    <tr>\n",
       "      <th>327</th>\n",
       "      <td>643-1</td>\n",
       "      <td>Flatbed Truck</td>\n",
       "      <td>1978-01-01</td>\n",
       "      <td>39</td>\n",
       "      <td>Classic Town</td>\n",
       "      <td>Town</td>\n",
       "    </tr>\n",
       "    <tr>\n",
       "      <th>228</th>\n",
       "      <td>605-1</td>\n",
       "      <td>Street Sweeper</td>\n",
       "      <td>1978-01-01</td>\n",
       "      <td>19</td>\n",
       "      <td>Classic Town</td>\n",
       "      <td>Town</td>\n",
       "    </tr>\n",
       "    <tr>\n",
       "      <th>227</th>\n",
       "      <td>604-1</td>\n",
       "      <td>Shell Service Car</td>\n",
       "      <td>1978-01-01</td>\n",
       "      <td>22</td>\n",
       "      <td>Classic Town</td>\n",
       "      <td>Town</td>\n",
       "    </tr>\n",
       "    <tr>\n",
       "      <th>226</th>\n",
       "      <td>603-1</td>\n",
       "      <td>Motorbike</td>\n",
       "      <td>1978-01-01</td>\n",
       "      <td>26</td>\n",
       "      <td>Classic Town</td>\n",
       "      <td>Town</td>\n",
       "    </tr>\n",
       "  </tbody>\n",
       "</table>\n",
       "</div>"
      ],
      "text/plain": [
       "     set_num        name_of_set       year  num_parts name_of_theme  name\n",
       "3814   842-2          Town Plan 1969-01-01        797     Town Plan  Town\n",
       "327    643-1      Flatbed Truck 1978-01-01         39  Classic Town  Town\n",
       "228    605-1     Street Sweeper 1978-01-01         19  Classic Town  Town\n",
       "227    604-1  Shell Service Car 1978-01-01         22  Classic Town  Town\n",
       "226    603-1          Motorbike 1978-01-01         26  Classic Town  Town"
      ]
     },
     "metadata": {},
     "output_type": "display_data"
    },
    {
     "data": {
      "text/html": [
       "<div>\n",
       "<style scoped>\n",
       "    .dataframe tbody tr th:only-of-type {\n",
       "        vertical-align: middle;\n",
       "    }\n",
       "\n",
       "    .dataframe tbody tr th {\n",
       "        vertical-align: top;\n",
       "    }\n",
       "\n",
       "    .dataframe thead th {\n",
       "        text-align: right;\n",
       "    }\n",
       "</style>\n",
       "<table border=\"1\" class=\"dataframe\">\n",
       "  <thead>\n",
       "    <tr style=\"text-align: right;\">\n",
       "      <th></th>\n",
       "      <th>set_num</th>\n",
       "      <th>name_of_set</th>\n",
       "      <th>year</th>\n",
       "      <th>num_parts</th>\n",
       "      <th>name_of_theme</th>\n",
       "      <th>name</th>\n",
       "    </tr>\n",
       "  </thead>\n",
       "  <tbody>\n",
       "    <tr>\n",
       "      <th>3636</th>\n",
       "      <td>10159-1</td>\n",
       "      <td>City Airport</td>\n",
       "      <td>2004-01-01</td>\n",
       "      <td>914</td>\n",
       "      <td>Airport</td>\n",
       "      <td>City</td>\n",
       "    </tr>\n",
       "    <tr>\n",
       "      <th>13432</th>\n",
       "      <td>7245-1</td>\n",
       "      <td>Prisoner Transport, Black Logo</td>\n",
       "      <td>2005-01-01</td>\n",
       "      <td>100</td>\n",
       "      <td>Police</td>\n",
       "      <td>City</td>\n",
       "    </tr>\n",
       "    <tr>\n",
       "      <th>13430</th>\n",
       "      <td>7237-1</td>\n",
       "      <td>Police Station [Lighted Figure]</td>\n",
       "      <td>2005-01-01</td>\n",
       "      <td>602</td>\n",
       "      <td>Police</td>\n",
       "      <td>City</td>\n",
       "    </tr>\n",
       "    <tr>\n",
       "      <th>13428</th>\n",
       "      <td>7236-1</td>\n",
       "      <td>Police Car, Black Logo</td>\n",
       "      <td>2005-01-01</td>\n",
       "      <td>60</td>\n",
       "      <td>Police</td>\n",
       "      <td>City</td>\n",
       "    </tr>\n",
       "    <tr>\n",
       "      <th>13426</th>\n",
       "      <td>7235-1</td>\n",
       "      <td>Police Motorcycle, Black Logo</td>\n",
       "      <td>2005-01-01</td>\n",
       "      <td>29</td>\n",
       "      <td>Police</td>\n",
       "      <td>City</td>\n",
       "    </tr>\n",
       "  </tbody>\n",
       "</table>\n",
       "</div>"
      ],
      "text/plain": [
       "       set_num                      name_of_set       year  num_parts  \\\n",
       "3636   10159-1                     City Airport 2004-01-01        914   \n",
       "13432   7245-1   Prisoner Transport, Black Logo 2005-01-01        100   \n",
       "13430   7237-1  Police Station [Lighted Figure] 2005-01-01        602   \n",
       "13428   7236-1           Police Car, Black Logo 2005-01-01         60   \n",
       "13426   7235-1    Police Motorcycle, Black Logo 2005-01-01         29   \n",
       "\n",
       "      name_of_theme  name  \n",
       "3636        Airport  City  \n",
       "13432        Police  City  \n",
       "13430        Police  City  \n",
       "13428        Police  City  \n",
       "13426        Police  City  "
      ]
     },
     "metadata": {},
     "output_type": "display_data"
    },
    {
     "data": {
      "text/html": [
       "<div>\n",
       "<style scoped>\n",
       "    .dataframe tbody tr th:only-of-type {\n",
       "        vertical-align: middle;\n",
       "    }\n",
       "\n",
       "    .dataframe tbody tr th {\n",
       "        vertical-align: top;\n",
       "    }\n",
       "\n",
       "    .dataframe thead th {\n",
       "        text-align: right;\n",
       "    }\n",
       "</style>\n",
       "<table border=\"1\" class=\"dataframe\">\n",
       "  <thead>\n",
       "    <tr style=\"text-align: right;\">\n",
       "      <th></th>\n",
       "      <th>set_num</th>\n",
       "      <th>name_of_set</th>\n",
       "      <th>year</th>\n",
       "      <th>num_parts</th>\n",
       "      <th>name_of_theme</th>\n",
       "      <th>name</th>\n",
       "    </tr>\n",
       "  </thead>\n",
       "  <tbody>\n",
       "    <tr>\n",
       "      <th>13411</th>\n",
       "      <td>60277-1</td>\n",
       "      <td>Police Patrol Boat</td>\n",
       "      <td>2021-01-01</td>\n",
       "      <td>276</td>\n",
       "      <td>Police</td>\n",
       "      <td>City</td>\n",
       "    </tr>\n",
       "    <tr>\n",
       "      <th>13552</th>\n",
       "      <td>60289-1</td>\n",
       "      <td>Airshow Jet Transporter</td>\n",
       "      <td>2021-01-01</td>\n",
       "      <td>281</td>\n",
       "      <td>City</td>\n",
       "      <td>Town</td>\n",
       "    </tr>\n",
       "    <tr>\n",
       "      <th>13570</th>\n",
       "      <td>60308-1</td>\n",
       "      <td>Seaside Police and Fire Mission</td>\n",
       "      <td>2021-01-01</td>\n",
       "      <td>297</td>\n",
       "      <td>City</td>\n",
       "      <td>Town</td>\n",
       "    </tr>\n",
       "    <tr>\n",
       "      <th>13567</th>\n",
       "      <td>60305-1</td>\n",
       "      <td>Car Transporter</td>\n",
       "      <td>2021-01-01</td>\n",
       "      <td>342</td>\n",
       "      <td>City</td>\n",
       "      <td>Town</td>\n",
       "    </tr>\n",
       "    <tr>\n",
       "      <th>10509</th>\n",
       "      <td>60282-1</td>\n",
       "      <td>Fire Command Unit</td>\n",
       "      <td>2021-01-01</td>\n",
       "      <td>380</td>\n",
       "      <td>Fire</td>\n",
       "      <td>City</td>\n",
       "    </tr>\n",
       "    <tr>\n",
       "      <th>13554</th>\n",
       "      <td>60291-1</td>\n",
       "      <td>Family House</td>\n",
       "      <td>2021-01-01</td>\n",
       "      <td>388</td>\n",
       "      <td>City</td>\n",
       "      <td>Town</td>\n",
       "    </tr>\n",
       "    <tr>\n",
       "      <th>13569</th>\n",
       "      <td>60307-1</td>\n",
       "      <td>Wildlife Rescue Camp</td>\n",
       "      <td>2021-01-01</td>\n",
       "      <td>503</td>\n",
       "      <td>City</td>\n",
       "      <td>Town</td>\n",
       "    </tr>\n",
       "    <tr>\n",
       "      <th>13565</th>\n",
       "      <td>60302-1</td>\n",
       "      <td>Wildlife Rescue Operation</td>\n",
       "      <td>2021-01-01</td>\n",
       "      <td>525</td>\n",
       "      <td>City</td>\n",
       "      <td>Town</td>\n",
       "    </tr>\n",
       "    <tr>\n",
       "      <th>13568</th>\n",
       "      <td>60306-1</td>\n",
       "      <td>Shopping Street</td>\n",
       "      <td>2021-01-01</td>\n",
       "      <td>533</td>\n",
       "      <td>City</td>\n",
       "      <td>Town</td>\n",
       "    </tr>\n",
       "    <tr>\n",
       "      <th>13555</th>\n",
       "      <td>60292-1</td>\n",
       "      <td>Town Center</td>\n",
       "      <td>2021-01-01</td>\n",
       "      <td>791</td>\n",
       "      <td>City</td>\n",
       "      <td>Town</td>\n",
       "    </tr>\n",
       "  </tbody>\n",
       "</table>\n",
       "</div>"
      ],
      "text/plain": [
       "       set_num                      name_of_set       year  num_parts  \\\n",
       "13411  60277-1               Police Patrol Boat 2021-01-01        276   \n",
       "13552  60289-1          Airshow Jet Transporter 2021-01-01        281   \n",
       "13570  60308-1  Seaside Police and Fire Mission 2021-01-01        297   \n",
       "13567  60305-1                  Car Transporter 2021-01-01        342   \n",
       "10509  60282-1                Fire Command Unit 2021-01-01        380   \n",
       "13554  60291-1                     Family House 2021-01-01        388   \n",
       "13569  60307-1             Wildlife Rescue Camp 2021-01-01        503   \n",
       "13565  60302-1        Wildlife Rescue Operation 2021-01-01        525   \n",
       "13568  60306-1                  Shopping Street 2021-01-01        533   \n",
       "13555  60292-1                      Town Center 2021-01-01        791   \n",
       "\n",
       "      name_of_theme  name  \n",
       "13411        Police  City  \n",
       "13552          City  Town  \n",
       "13570          City  Town  \n",
       "13567          City  Town  \n",
       "10509          Fire  City  \n",
       "13554          City  Town  \n",
       "13569          City  Town  \n",
       "13565          City  Town  \n",
       "13568          City  Town  \n",
       "13555          City  Town  "
      ]
     },
     "metadata": {},
     "output_type": "display_data"
    }
   ],
   "source": [
    "display(df_towncity[df_towncity['name'] == 'Town'].sort_values('year').head())\n",
    "display(df_towncity[df_towncity['name'] == 'City'].sort_values('year').head())\n",
    "display(df_towncity.sort_values(['year', 'num_parts']).tail(10))"
   ]
  },
  {
   "cell_type": "code",
   "execution_count": 33,
   "metadata": {
    "ExecuteTime": {
     "end_time": "2021-08-23T09:41:48.516101Z",
     "start_time": "2021-08-23T09:41:48.488100Z"
    }
   },
   "outputs": [
    {
     "name": "stdout",
     "output_type": "stream",
     "text": [
      "year\n",
      "1978-01-01    34\n",
      "1979-01-01    19\n",
      "1980-01-01    17\n",
      "1981-01-01    15\n",
      "1982-01-01    10\n",
      "Freq: AS-JAN, Name: set_num, dtype: int64\n"
     ]
    }
   ],
   "source": [
    "df_towncity_grouped = df_towncity.groupby('year')['set_num'].count()\n",
    "df_towncity_grouped = df_towncity_grouped['1978':]\n",
    "df_towncity_grouped = df_towncity_grouped.asfreq('YS')\n",
    "print(df_towncity_grouped.head())"
   ]
  },
  {
   "cell_type": "code",
   "execution_count": 34,
   "metadata": {
    "ExecuteTime": {
     "end_time": "2021-08-23T09:41:48.721117Z",
     "start_time": "2021-08-23T09:41:48.519103Z"
    }
   },
   "outputs": [
    {
     "data": {
      "image/png": "[encoded data removed]",
      "text/plain": [
       "<Figure size 432x288 with 1 Axes>"
      ]
     },
     "metadata": {
      "needs_background": "light"
     },
     "output_type": "display_data"
    }
   ],
   "source": [
    "sns.boxplot(df_towncity_grouped, color='lightgrey')\n",
    "plt.axvline(df_towncity_grouped.mean(), color='black', ls='dotted')\n",
    "plt.xlabel('')\n",
    "plt.title('Distribution of Town/City Sets per Year')\n",
    "plt.savefig('Distribution of Town_City Sets per Year.png');"
   ]
  },
  {
   "cell_type": "markdown",
   "metadata": {},
   "source": [
    "## Trend, Seasonality and Noise"
   ]
  },
  {
   "cell_type": "code",
   "execution_count": 35,
   "metadata": {
    "ExecuteTime": {
     "end_time": "2021-08-23T09:41:48.832950Z",
     "start_time": "2021-08-23T09:41:48.725121Z"
    }
   },
   "outputs": [],
   "source": [
    "from statsmodels.tsa.seasonal import seasonal_decompose"
   ]
  },
  {
   "cell_type": "code",
   "execution_count": 36,
   "metadata": {
    "ExecuteTime": {
     "end_time": "2021-08-23T09:41:49.727194Z",
     "start_time": "2021-08-23T09:41:48.832950Z"
    }
   },
   "outputs": [
    {
     "data": {
      "image/png": "[encoded data removed]",
      "text/plain": [
       "<Figure size 432x288 with 4 Axes>"
      ]
     },
     "metadata": {
      "needs_background": "light"
     },
     "output_type": "display_data"
    }
   ],
   "source": [
    "seasonal_decompose(df['count by year, all sets'].diff().dropna()).plot()\n",
    "plt.savefig('seasonal_decompose_years.png', bbox_inches='tight');"
   ]
  },
  {
   "cell_type": "code",
   "execution_count": 37,
   "metadata": {
    "ExecuteTime": {
     "end_time": "2021-08-23T09:41:50.545820Z",
     "start_time": "2021-08-23T09:41:49.731195Z"
    }
   },
   "outputs": [
    {
     "data": {
      "image/png": "[encoded data removed]",
      "text/plain": [
       "<Figure size 432x288 with 4 Axes>"
      ]
     },
     "metadata": {
      "needs_background": "light"
     },
     "output_type": "display_data"
    }
   ],
   "source": [
    "seasonal_decompose(df_duplo_grouped.to_frame(name='duplo sets by year')['duplo sets by year'].diff().dropna()).plot()\n",
    "plt.savefig('seasonal_decompose_duplo.png', bbox_inches='tight');"
   ]
  },
  {
   "cell_type": "code",
   "execution_count": 38,
   "metadata": {
    "ExecuteTime": {
     "end_time": "2021-08-23T09:41:51.442611Z",
     "start_time": "2021-08-23T09:41:50.548820Z"
    }
   },
   "outputs": [
    {
     "data": {
      "image/png": "[encoded data removed]",
      "text/plain": [
       "<Figure size 432x288 with 4 Axes>"
      ]
     },
     "metadata": {
      "needs_background": "light"
     },
     "output_type": "display_data"
    }
   ],
   "source": [
    "seasonal_decompose(df_towncity_grouped.to_frame(name='town/city sets by year')['town/city sets by year'].diff().dropna()).plot()\n",
    "plt.savefig('seasonal_decompose_towncity.png', bbox_inches='tight');"
   ]
  },
  {
   "cell_type": "markdown",
   "metadata": {},
   "source": [
    "## Stationarity"
   ]
  },
  {
   "cell_type": "code",
   "execution_count": 39,
   "metadata": {
    "ExecuteTime": {
     "end_time": "2021-08-23T09:41:51.645855Z",
     "start_time": "2021-08-23T09:41:51.445618Z"
    }
   },
   "outputs": [],
   "source": [
    "from statsmodels.tsa.stattools import adfuller"
   ]
  },
  {
   "cell_type": "code",
   "execution_count": 40,
   "metadata": {
    "ExecuteTime": {
     "end_time": "2021-08-23T09:41:51.723985Z",
     "start_time": "2021-08-23T09:41:51.647854Z"
    }
   },
   "outputs": [
    {
     "name": "stdout",
     "output_type": "stream",
     "text": [
      "0.7483810484437359\n",
      "0.9907555543990169\n",
      "{'1%': -3.526004646825607, '5%': -2.9032002348069774, '10%': -2.5889948363419957}\n",
      "--------------------------------------------------------------------------------\n",
      "-2.2659029306957255\n",
      "0.18320081547232347\n",
      "{'1%': -3.562878534649522, '5%': -2.918973284023669, '10%': -2.597393446745562}\n",
      "--------------------------------------------------------------------------------\n",
      "-0.4189079943125299\n",
      "0.9068936312573244\n",
      "{'1%': -3.6209175221605827, '5%': -2.9435394610388332, '10%': -2.6104002410518627}\n"
     ]
    }
   ],
   "source": [
    "year_adf = adfuller(df)\n",
    "print(year_adf[0], year_adf[1], year_adf[4], sep='\\n')\n",
    "print('-'*80)\n",
    "\n",
    "duplo_adf = adfuller(df_duplo_grouped)\n",
    "print(duplo_adf[0], duplo_adf[1], duplo_adf[4], sep='\\n')\n",
    "print('-'*80)\n",
    "\n",
    "towncity_adf = adfuller(df_towncity_grouped)\n",
    "print(towncity_adf[0], towncity_adf[1], towncity_adf[4], sep='\\n')"
   ]
  },
  {
   "cell_type": "code",
   "execution_count": 41,
   "metadata": {
    "ExecuteTime": {
     "end_time": "2021-08-23T09:41:51.785931Z",
     "start_time": "2021-08-23T09:41:51.725987Z"
    }
   },
   "outputs": [
    {
     "name": "stdout",
     "output_type": "stream",
     "text": [
      "-9.601989949510328\n",
      "1.9097051767289004e-16\n",
      "{'1%': -3.526004646825607, '5%': -2.9032002348069774, '10%': -2.5889948363419957}\n",
      "--------------------------------------------------------------------------------\n",
      "-7.020983054498641\n",
      "6.544489441306652e-10\n",
      "{'1%': -3.568485864, '5%': -2.92135992, '10%': -2.5986616}\n",
      "--------------------------------------------------------------------------------\n",
      "-5.544791586221835\n",
      "1.6702962111142508e-06\n",
      "{'1%': -3.6209175221605827, '5%': -2.9435394610388332, '10%': -2.6104002410518627}\n"
     ]
    }
   ],
   "source": [
    "year_adf = adfuller(df.diff().dropna())\n",
    "print(year_adf[0], year_adf[1], year_adf[4], sep='\\n')\n",
    "print('-'*80)\n",
    "\n",
    "duplo_adf = adfuller(df_duplo_grouped.diff().dropna())\n",
    "print(duplo_adf[0], duplo_adf[1], duplo_adf[4], sep='\\n')\n",
    "print('-'*80)\n",
    "\n",
    "towncity_adf = adfuller(df_towncity_grouped.diff().dropna())\n",
    "print(towncity_adf[0], towncity_adf[1], towncity_adf[4], sep='\\n')"
   ]
  },
  {
   "cell_type": "code",
   "execution_count": 42,
   "metadata": {
    "ExecuteTime": {
     "end_time": "2021-08-23T09:41:51.832802Z",
     "start_time": "2021-08-23T09:41:51.785931Z"
    }
   },
   "outputs": [
    {
     "name": "stdout",
     "output_type": "stream",
     "text": [
      "-7.556139082464341\n",
      "3.0959554886111787e-11\n",
      "{'1%': -3.5319549603840894, '5%': -2.905755128523123, '10%': -2.5903569458676765}\n",
      "--------------------------------------------------------------------------------\n",
      "-10.001868959896237\n",
      "1.8749975542258738e-17\n",
      "{'1%': -3.5745892596209488, '5%': -2.9239543084490744, '10%': -2.6000391840277777}\n",
      "--------------------------------------------------------------------------------\n",
      "-3.9116374715877176\n",
      "0.0019508515694299984\n",
      "{'1%': -3.653519805908203, '5%': -2.9572185644531253, '10%': -2.6175881640625}\n"
     ]
    }
   ],
   "source": [
    "year_adf = adfuller(df.diff().diff().dropna())\n",
    "print(year_adf[0], year_adf[1], year_adf[4], sep='\\n')\n",
    "print('-'*80)\n",
    "\n",
    "duplo_adf = adfuller(df_duplo_grouped.diff().diff().dropna())\n",
    "print(duplo_adf[0], duplo_adf[1], duplo_adf[4], sep='\\n')\n",
    "print('-'*80)\n",
    "\n",
    "towncity_adf = adfuller(df_towncity_grouped.diff().diff().dropna())\n",
    "print(towncity_adf[0], towncity_adf[1], towncity_adf[4], sep='\\n')"
   ]
  },
  {
   "cell_type": "markdown",
   "metadata": {},
   "source": [
    "## (Partial) Autocorrelation"
   ]
  },
  {
   "cell_type": "code",
   "execution_count": 43,
   "metadata": {
    "ExecuteTime": {
     "end_time": "2021-08-23T09:41:51.859438Z",
     "start_time": "2021-08-23T09:41:51.832802Z"
    }
   },
   "outputs": [],
   "source": [
    "from statsmodels.graphics import tsaplots"
   ]
  },
  {
   "cell_type": "markdown",
   "metadata": {},
   "source": [
    "### years"
   ]
  },
  {
   "cell_type": "code",
   "execution_count": 44,
   "metadata": {
    "ExecuteTime": {
     "end_time": "2021-08-23T09:41:52.411959Z",
     "start_time": "2021-08-23T09:41:51.859438Z"
    }
   },
   "outputs": [
    {
     "data": {
      "image/png": "[encoded data removed]",
      "text/plain": [
       "<Figure size 1152x144 with 2 Axes>"
      ]
     },
     "metadata": {
      "needs_background": "light"
     },
     "output_type": "display_data"
    }
   ],
   "source": [
    "fig, (ax1, ax2) = plt.subplots(1,2, figsize=(16,2), sharey=True)\n",
    "\n",
    "tsaplots.plot_acf(df, lags=10, ax=ax1)\n",
    "tsaplots.plot_pacf(df, lags=10, ax=ax2)\n",
    "plt.suptitle('Actual Data', weight='bold')\n",
    "plt.savefig('autocorr year.png', bbox_inches='tight');"
   ]
  },
  {
   "cell_type": "code",
   "execution_count": 45,
   "metadata": {
    "ExecuteTime": {
     "end_time": "2021-08-23T09:41:52.935703Z",
     "start_time": "2021-08-23T09:41:52.415005Z"
    }
   },
   "outputs": [
    {
     "data": {
      "image/png": "[encoded data removed]",
      "text/plain": [
       "<Figure size 1152x144 with 2 Axes>"
      ]
     },
     "metadata": {
      "needs_background": "light"
     },
     "output_type": "display_data"
    }
   ],
   "source": [
    "fig, (ax1, ax2) = plt.subplots(1,2, figsize=(16,2), sharey=True)\n",
    "\n",
    "tsaplots.plot_acf(df.diff().dropna(), lags=10, ax=ax1)\n",
    "tsaplots.plot_pacf(df.diff().dropna(), lags=10, ax=ax2)\n",
    "plt.suptitle('1st Order Differencing', weight='bold')\n",
    "plt.savefig('autocorr year 1 diff.png', bbox_inches='tight');"
   ]
  },
  {
   "cell_type": "markdown",
   "metadata": {},
   "source": [
    "### duplo"
   ]
  },
  {
   "cell_type": "code",
   "execution_count": 46,
   "metadata": {
    "ExecuteTime": {
     "end_time": "2021-08-23T09:41:53.415833Z",
     "start_time": "2021-08-23T09:41:52.937734Z"
    }
   },
   "outputs": [
    {
     "data": {
      "image/png": "[encoded data removed]",
      "text/plain": [
       "<Figure size 1152x144 with 2 Axes>"
      ]
     },
     "metadata": {
      "needs_background": "light"
     },
     "output_type": "display_data"
    }
   ],
   "source": [
    "fig, (ax1, ax2) = plt.subplots(1,2, figsize=(16,2), sharey=True)\n",
    "\n",
    "tsaplots.plot_acf(df_duplo_grouped, lags=10, zero=False, ax=ax1)\n",
    "tsaplots.plot_pacf(df_duplo_grouped, lags=10, zero=False, ax=ax2)\n",
    "plt.suptitle('Actual Data', weight='bold')\n",
    "plt.savefig('autocorr duplo.png', bbox_inches='tight');"
   ]
  },
  {
   "cell_type": "code",
   "execution_count": 47,
   "metadata": {
    "ExecuteTime": {
     "end_time": "2021-08-23T09:41:53.899525Z",
     "start_time": "2021-08-23T09:41:53.417751Z"
    }
   },
   "outputs": [
    {
     "data": {
      "image/png": "[encoded data removed]",
      "text/plain": [
       "<Figure size 1152x144 with 2 Axes>"
      ]
     },
     "metadata": {
      "needs_background": "light"
     },
     "output_type": "display_data"
    }
   ],
   "source": [
    "fig, (ax1, ax2) = plt.subplots(1,2, figsize=(16,2), sharey=True)\n",
    "\n",
    "tsaplots.plot_acf(df_duplo_grouped.diff().dropna(), lags=10, zero=False, ax=ax1)\n",
    "tsaplots.plot_pacf(df_duplo_grouped.diff().dropna(), lags=10, zero=False, ax=ax2)\n",
    "plt.suptitle('1st Order Differencing', weight='bold')\n",
    "plt.savefig('autocorr duplo 1 diff.png', bbox_inches='tight');"
   ]
  },
  {
   "cell_type": "code",
   "execution_count": 48,
   "metadata": {
    "ExecuteTime": {
     "end_time": "2021-08-23T09:41:54.404207Z",
     "start_time": "2021-08-23T09:41:53.900534Z"
    }
   },
   "outputs": [
    {
     "data": {
      "image/png": "[encoded data removed]",
      "text/plain": [
       "<Figure size 1152x144 with 2 Axes>"
      ]
     },
     "metadata": {
      "needs_background": "light"
     },
     "output_type": "display_data"
    }
   ],
   "source": [
    "fig, (ax1, ax2) = plt.subplots(1,2, figsize=(16,2), sharey=True)\n",
    "\n",
    "tsaplots.plot_acf(df_duplo_grouped.diff().diff().dropna(), lags=10, zero=False, ax=ax1)\n",
    "tsaplots.plot_pacf(df_duplo_grouped.diff().diff().dropna(), lags=10, zero=False, ax=ax2)\n",
    "plt.suptitle('2nd Order Differencing', weight='bold')\n",
    "plt.savefig('autocorr duplo 2 diff.png', bbox_inches='tight');"
   ]
  },
  {
   "cell_type": "markdown",
   "metadata": {},
   "source": [
    "### town/city"
   ]
  },
  {
   "cell_type": "code",
   "execution_count": 49,
   "metadata": {
    "ExecuteTime": {
     "end_time": "2021-08-23T09:41:54.902592Z",
     "start_time": "2021-08-23T09:41:54.406207Z"
    }
   },
   "outputs": [
    {
     "data": {
      "image/png": "[encoded data removed]",
      "text/plain": [
       "<Figure size 1152x144 with 2 Axes>"
      ]
     },
     "metadata": {
      "needs_background": "light"
     },
     "output_type": "display_data"
    }
   ],
   "source": [
    "fig, (ax1, ax2) = plt.subplots(1,2, figsize=(16,2), sharey=True)\n",
    "\n",
    "tsaplots.plot_acf(df_towncity_grouped.diff().dropna(), lags=10, ax=ax1)\n",
    "tsaplots.plot_pacf(df_towncity_grouped.diff().dropna(), lags=10, ax=ax2)\n",
    "plt.suptitle('1st Order Differencing', weight='bold')\n",
    "plt.savefig('autocorr towncity 1 diff.png', bbox_inches='tight');"
   ]
  },
  {
   "cell_type": "markdown",
   "metadata": {},
   "source": [
    "## Find good models"
   ]
  },
  {
   "cell_type": "code",
   "execution_count": 50,
   "metadata": {
    "ExecuteTime": {
     "end_time": "2021-08-23T09:41:55.049729Z",
     "start_time": "2021-08-23T09:41:54.902592Z"
    }
   },
   "outputs": [],
   "source": [
    "from statsmodels.tsa.statespace.sarimax import SARIMAX"
   ]
  },
  {
   "cell_type": "markdown",
   "metadata": {},
   "source": [
    "### years"
   ]
  },
  {
   "cell_type": "code",
   "execution_count": 51,
   "metadata": {
    "ExecuteTime": {
     "end_time": "2021-08-23T09:41:57.168695Z",
     "start_time": "2021-08-23T09:41:55.049729Z"
    }
   },
   "outputs": [
    {
     "name": "stdout",
     "output_type": "stream",
     "text": [
      "ARIMA(0, 0,0) done - ARIMA(0, 0,1) done - ARIMA(0, 0,2) done - ARIMA(0, 0,3) done - ARIMA(1, 0,0) done - ARIMA(1, 0,1) done - ARIMA(1, 0,2) done - ARIMA(1, 0,3) done - ARIMA(2, 0,0) done - ARIMA(2, 0,1) done - ARIMA(2, 0,2) done - ARIMA(2, 0,3) done - ARIMA(3, 0,0) done - ARIMA(3, 0,1) done - ARIMA(3, 0,2) done - ARIMA(3, 0,3) done - "
     ]
    },
    {
     "data": {
      "text/html": [
       "<div>\n",
       "<style scoped>\n",
       "    .dataframe tbody tr th:only-of-type {\n",
       "        vertical-align: middle;\n",
       "    }\n",
       "\n",
       "    .dataframe tbody tr th {\n",
       "        vertical-align: top;\n",
       "    }\n",
       "\n",
       "    .dataframe thead th {\n",
       "        text-align: right;\n",
       "    }\n",
       "</style>\n",
       "<table border=\"1\" class=\"dataframe\">\n",
       "  <thead>\n",
       "    <tr style=\"text-align: right;\">\n",
       "      <th></th>\n",
       "      <th>model</th>\n",
       "      <th>aic</th>\n",
       "      <th>bic</th>\n",
       "    </tr>\n",
       "  </thead>\n",
       "  <tbody>\n",
       "    <tr>\n",
       "      <th>4</th>\n",
       "      <td>ARIMA(1, 0,0)</td>\n",
       "      <td>785.977823</td>\n",
       "      <td>790.558742</td>\n",
       "    </tr>\n",
       "    <tr>\n",
       "      <th>8</th>\n",
       "      <td>ARIMA(2, 0,0)</td>\n",
       "      <td>787.182090</td>\n",
       "      <td>794.053468</td>\n",
       "    </tr>\n",
       "    <tr>\n",
       "      <th>5</th>\n",
       "      <td>ARIMA(1, 0,1)</td>\n",
       "      <td>787.352267</td>\n",
       "      <td>794.223646</td>\n",
       "    </tr>\n",
       "  </tbody>\n",
       "</table>\n",
       "</div>"
      ],
      "text/plain": [
       "           model         aic         bic\n",
       "4  ARIMA(1, 0,0)  785.977823  790.558742\n",
       "8  ARIMA(2, 0,0)  787.182090  794.053468\n",
       "5  ARIMA(1, 0,1)  787.352267  794.223646"
      ]
     },
     "metadata": {},
     "output_type": "display_data"
    },
    {
     "data": {
      "text/html": [
       "<div>\n",
       "<style scoped>\n",
       "    .dataframe tbody tr th:only-of-type {\n",
       "        vertical-align: middle;\n",
       "    }\n",
       "\n",
       "    .dataframe tbody tr th {\n",
       "        vertical-align: top;\n",
       "    }\n",
       "\n",
       "    .dataframe thead th {\n",
       "        text-align: right;\n",
       "    }\n",
       "</style>\n",
       "<table border=\"1\" class=\"dataframe\">\n",
       "  <thead>\n",
       "    <tr style=\"text-align: right;\">\n",
       "      <th></th>\n",
       "      <th>model</th>\n",
       "      <th>aic</th>\n",
       "      <th>bic</th>\n",
       "    </tr>\n",
       "  </thead>\n",
       "  <tbody>\n",
       "    <tr>\n",
       "      <th>4</th>\n",
       "      <td>ARIMA(1, 0,0)</td>\n",
       "      <td>785.977823</td>\n",
       "      <td>790.558742</td>\n",
       "    </tr>\n",
       "    <tr>\n",
       "      <th>8</th>\n",
       "      <td>ARIMA(2, 0,0)</td>\n",
       "      <td>787.182090</td>\n",
       "      <td>794.053468</td>\n",
       "    </tr>\n",
       "    <tr>\n",
       "      <th>5</th>\n",
       "      <td>ARIMA(1, 0,1)</td>\n",
       "      <td>787.352267</td>\n",
       "      <td>794.223646</td>\n",
       "    </tr>\n",
       "  </tbody>\n",
       "</table>\n",
       "</div>"
      ],
      "text/plain": [
       "           model         aic         bic\n",
       "4  ARIMA(1, 0,0)  785.977823  790.558742\n",
       "8  ARIMA(2, 0,0)  787.182090  794.053468\n",
       "5  ARIMA(1, 0,1)  787.352267  794.223646"
      ]
     },
     "metadata": {},
     "output_type": "display_data"
    }
   ],
   "source": [
    "aic_bic_results = []\n",
    "\n",
    "for p in range(0,4):\n",
    "    for q in range(0,4):\n",
    "        model = SARIMAX(df, order=(p,0,q))\n",
    "        results = model.fit()\n",
    "        model_name='ARIMA(' + str(p) + ', 0,' + str(q) + ')'\n",
    "        aic_bic_results.append((model_name, results.aic, results.bic))\n",
    "        print(model_name, 'done', end=' - ')\n",
    "        \n",
    "df_aic_bic = pd.DataFrame(aic_bic_results, columns=['model', 'aic', 'bic'])\n",
    "display(df_aic_bic.sort_values('aic').head(3))\n",
    "display(df_aic_bic.sort_values('bic').head(3))"
   ]
  },
  {
   "cell_type": "code",
   "execution_count": 52,
   "metadata": {
    "ExecuteTime": {
     "end_time": "2021-08-23T09:42:01.232765Z",
     "start_time": "2021-08-23T09:41:57.168695Z"
    }
   },
   "outputs": [
    {
     "name": "stdout",
     "output_type": "stream",
     "text": [
      "ARIMA(0, 1,0) done - ARIMA(0, 1,1) done - ARIMA(0, 1,2) done - ARIMA(0, 1,3) done - ARIMA(0, 1,4) done - ARIMA(1, 1,0) done - ARIMA(1, 1,1) done - ARIMA(1, 1,2) done - ARIMA(1, 1,3) done - ARIMA(1, 1,4) done - ARIMA(2, 1,0) done - ARIMA(2, 1,1) done - ARIMA(2, 1,2) done - ARIMA(2, 1,3) done - ARIMA(2, 1,4) done - ARIMA(3, 1,0) done - ARIMA(3, 1,1) done - ARIMA(3, 1,2) done - ARIMA(3, 1,3) done - ARIMA(3, 1,4) done - ARIMA(4, 1,0) done - ARIMA(4, 1,1) done - ARIMA(4, 1,2) done - ARIMA(4, 1,3) done - ARIMA(4, 1,4) done - "
     ]
    },
    {
     "data": {
      "text/html": [
       "<div>\n",
       "<style scoped>\n",
       "    .dataframe tbody tr th:only-of-type {\n",
       "        vertical-align: middle;\n",
       "    }\n",
       "\n",
       "    .dataframe tbody tr th {\n",
       "        vertical-align: top;\n",
       "    }\n",
       "\n",
       "    .dataframe thead th {\n",
       "        text-align: right;\n",
       "    }\n",
       "</style>\n",
       "<table border=\"1\" class=\"dataframe\">\n",
       "  <thead>\n",
       "    <tr style=\"text-align: right;\">\n",
       "      <th></th>\n",
       "      <th>model</th>\n",
       "      <th>aic</th>\n",
       "      <th>bic</th>\n",
       "    </tr>\n",
       "  </thead>\n",
       "  <tbody>\n",
       "    <tr>\n",
       "      <th>0</th>\n",
       "      <td>ARIMA(0, 1,0)</td>\n",
       "      <td>768.741447</td>\n",
       "      <td>771.018113</td>\n",
       "    </tr>\n",
       "    <tr>\n",
       "      <th>12</th>\n",
       "      <td>ARIMA(2, 1,2)</td>\n",
       "      <td>769.348619</td>\n",
       "      <td>780.731950</td>\n",
       "    </tr>\n",
       "    <tr>\n",
       "      <th>5</th>\n",
       "      <td>ARIMA(1, 1,0)</td>\n",
       "      <td>769.866340</td>\n",
       "      <td>774.419672</td>\n",
       "    </tr>\n",
       "  </tbody>\n",
       "</table>\n",
       "</div>"
      ],
      "text/plain": [
       "            model         aic         bic\n",
       "0   ARIMA(0, 1,0)  768.741447  771.018113\n",
       "12  ARIMA(2, 1,2)  769.348619  780.731950\n",
       "5   ARIMA(1, 1,0)  769.866340  774.419672"
      ]
     },
     "metadata": {},
     "output_type": "display_data"
    },
    {
     "data": {
      "text/html": [
       "<div>\n",
       "<style scoped>\n",
       "    .dataframe tbody tr th:only-of-type {\n",
       "        vertical-align: middle;\n",
       "    }\n",
       "\n",
       "    .dataframe tbody tr th {\n",
       "        vertical-align: top;\n",
       "    }\n",
       "\n",
       "    .dataframe thead th {\n",
       "        text-align: right;\n",
       "    }\n",
       "</style>\n",
       "<table border=\"1\" class=\"dataframe\">\n",
       "  <thead>\n",
       "    <tr style=\"text-align: right;\">\n",
       "      <th></th>\n",
       "      <th>model</th>\n",
       "      <th>aic</th>\n",
       "      <th>bic</th>\n",
       "    </tr>\n",
       "  </thead>\n",
       "  <tbody>\n",
       "    <tr>\n",
       "      <th>0</th>\n",
       "      <td>ARIMA(0, 1,0)</td>\n",
       "      <td>768.741447</td>\n",
       "      <td>771.018113</td>\n",
       "    </tr>\n",
       "    <tr>\n",
       "      <th>5</th>\n",
       "      <td>ARIMA(1, 1,0)</td>\n",
       "      <td>769.866340</td>\n",
       "      <td>774.419672</td>\n",
       "    </tr>\n",
       "    <tr>\n",
       "      <th>1</th>\n",
       "      <td>ARIMA(0, 1,1)</td>\n",
       "      <td>770.046317</td>\n",
       "      <td>774.599649</td>\n",
       "    </tr>\n",
       "  </tbody>\n",
       "</table>\n",
       "</div>"
      ],
      "text/plain": [
       "           model         aic         bic\n",
       "0  ARIMA(0, 1,0)  768.741447  771.018113\n",
       "5  ARIMA(1, 1,0)  769.866340  774.419672\n",
       "1  ARIMA(0, 1,1)  770.046317  774.599649"
      ]
     },
     "metadata": {},
     "output_type": "display_data"
    }
   ],
   "source": [
    "aic_bic_results = []\n",
    "\n",
    "for p in range(0,5):\n",
    "    for q in range(0,5):\n",
    "        model = SARIMAX(df, order=(p,1,q))\n",
    "        results = model.fit()\n",
    "        model_name='ARIMA(' + str(p) + ', 1,' + str(q) + ')'\n",
    "        aic_bic_results.append((model_name, results.aic, results.bic))\n",
    "        print(model_name, 'done', end=' - ')\n",
    "        \n",
    "df_aic_bic = pd.DataFrame(aic_bic_results, columns=['model', 'aic', 'bic'])\n",
    "display(df_aic_bic.sort_values('aic').head(3))\n",
    "display(df_aic_bic.sort_values('bic').head(3))"
   ]
  },
  {
   "cell_type": "code",
   "execution_count": 53,
   "metadata": {
    "ExecuteTime": {
     "end_time": "2021-08-23T09:42:05.990068Z",
     "start_time": "2021-08-23T09:42:01.235656Z"
    }
   },
   "outputs": [
    {
     "name": "stdout",
     "output_type": "stream",
     "text": [
      "ARIMA(0, 2,0) done - ARIMA(0, 2,1) done - ARIMA(0, 2,2) done - ARIMA(0, 2,3) done - ARIMA(0, 2,4) done - ARIMA(1, 2,0) done - ARIMA(1, 2,1) done - ARIMA(1, 2,2) done - ARIMA(1, 2,3) done - ARIMA(1, 2,4) done - ARIMA(2, 2,0) done - ARIMA(2, 2,1) done - ARIMA(2, 2,2) done - ARIMA(2, 2,3) done - ARIMA(2, 2,4) done - ARIMA(3, 2,0) done - ARIMA(3, 2,1) done - ARIMA(3, 2,2) done - ARIMA(3, 2,3) done - ARIMA(3, 2,4) done - ARIMA(4, 2,0) done - ARIMA(4, 2,1) done - ARIMA(4, 2,2) done - ARIMA(4, 2,3) done - ARIMA(4, 2,4) done - "
     ]
    },
    {
     "data": {
      "text/html": [
       "<div>\n",
       "<style scoped>\n",
       "    .dataframe tbody tr th:only-of-type {\n",
       "        vertical-align: middle;\n",
       "    }\n",
       "\n",
       "    .dataframe tbody tr th {\n",
       "        vertical-align: top;\n",
       "    }\n",
       "\n",
       "    .dataframe thead th {\n",
       "        text-align: right;\n",
       "    }\n",
       "</style>\n",
       "<table border=\"1\" class=\"dataframe\">\n",
       "  <thead>\n",
       "    <tr style=\"text-align: right;\">\n",
       "      <th></th>\n",
       "      <th>model</th>\n",
       "      <th>aic</th>\n",
       "      <th>bic</th>\n",
       "    </tr>\n",
       "  </thead>\n",
       "  <tbody>\n",
       "    <tr>\n",
       "      <th>6</th>\n",
       "      <td>ARIMA(1, 2,1)</td>\n",
       "      <td>761.451595</td>\n",
       "      <td>768.239634</td>\n",
       "    </tr>\n",
       "    <tr>\n",
       "      <th>2</th>\n",
       "      <td>ARIMA(0, 2,2)</td>\n",
       "      <td>761.665641</td>\n",
       "      <td>768.453680</td>\n",
       "    </tr>\n",
       "    <tr>\n",
       "      <th>1</th>\n",
       "      <td>ARIMA(0, 2,1)</td>\n",
       "      <td>761.829444</td>\n",
       "      <td>766.354804</td>\n",
       "    </tr>\n",
       "  </tbody>\n",
       "</table>\n",
       "</div>"
      ],
      "text/plain": [
       "           model         aic         bic\n",
       "6  ARIMA(1, 2,1)  761.451595  768.239634\n",
       "2  ARIMA(0, 2,2)  761.665641  768.453680\n",
       "1  ARIMA(0, 2,1)  761.829444  766.354804"
      ]
     },
     "metadata": {},
     "output_type": "display_data"
    },
    {
     "data": {
      "text/html": [
       "<div>\n",
       "<style scoped>\n",
       "    .dataframe tbody tr th:only-of-type {\n",
       "        vertical-align: middle;\n",
       "    }\n",
       "\n",
       "    .dataframe tbody tr th {\n",
       "        vertical-align: top;\n",
       "    }\n",
       "\n",
       "    .dataframe thead th {\n",
       "        text-align: right;\n",
       "    }\n",
       "</style>\n",
       "<table border=\"1\" class=\"dataframe\">\n",
       "  <thead>\n",
       "    <tr style=\"text-align: right;\">\n",
       "      <th></th>\n",
       "      <th>model</th>\n",
       "      <th>aic</th>\n",
       "      <th>bic</th>\n",
       "    </tr>\n",
       "  </thead>\n",
       "  <tbody>\n",
       "    <tr>\n",
       "      <th>1</th>\n",
       "      <td>ARIMA(0, 2,1)</td>\n",
       "      <td>761.829444</td>\n",
       "      <td>766.354804</td>\n",
       "    </tr>\n",
       "    <tr>\n",
       "      <th>6</th>\n",
       "      <td>ARIMA(1, 2,1)</td>\n",
       "      <td>761.451595</td>\n",
       "      <td>768.239634</td>\n",
       "    </tr>\n",
       "    <tr>\n",
       "      <th>2</th>\n",
       "      <td>ARIMA(0, 2,2)</td>\n",
       "      <td>761.665641</td>\n",
       "      <td>768.453680</td>\n",
       "    </tr>\n",
       "  </tbody>\n",
       "</table>\n",
       "</div>"
      ],
      "text/plain": [
       "           model         aic         bic\n",
       "1  ARIMA(0, 2,1)  761.829444  766.354804\n",
       "6  ARIMA(1, 2,1)  761.451595  768.239634\n",
       "2  ARIMA(0, 2,2)  761.665641  768.453680"
      ]
     },
     "metadata": {},
     "output_type": "display_data"
    }
   ],
   "source": [
    "aic_bic_results = []\n",
    "\n",
    "for p in range(0,5):\n",
    "    for q in range(0,5):\n",
    "        model = SARIMAX(df, order=(p,2,q))\n",
    "        results = model.fit()\n",
    "        model_name='ARIMA(' + str(p) + ', 2,' + str(q) + ')'\n",
    "        aic_bic_results.append((model_name, results.aic, results.bic))\n",
    "        print(model_name, 'done', end=' - ')\n",
    "        \n",
    "df_aic_bic = pd.DataFrame(aic_bic_results, columns=['model', 'aic', 'bic'])\n",
    "display(df_aic_bic.sort_values('aic').head(3))\n",
    "display(df_aic_bic.sort_values('bic').head(3))"
   ]
  },
  {
   "cell_type": "markdown",
   "metadata": {},
   "source": [
    "### duplo"
   ]
  },
  {
   "cell_type": "code",
   "execution_count": 68,
   "metadata": {
    "ExecuteTime": {
     "end_time": "2021-08-23T09:45:49.764386Z",
     "start_time": "2021-08-23T09:45:02.929499Z"
    }
   },
   "outputs": [
    {
     "name": "stdout",
     "output_type": "stream",
     "text": [
      "            model  p  q         aic         bic\n",
      "12  ARIMA(1, 0,1)  1  1  368.272305  374.183181\n",
      "35  ARIMA(3, 0,2)  3  2  368.349819  380.171571\n",
      "46  ARIMA(4, 0,2)  4  2  368.404611  382.196655\n",
      "            model  p  q         aic         bic\n",
      "12  ARIMA(1, 0,1)  1  1  368.272305  374.183181\n",
      "22  ARIMA(2, 0,0)  2  0  369.985291  375.896166\n",
      "11  ARIMA(1, 0,0)  1  0  372.381445  376.322029\n"
     ]
    }
   ],
   "source": [
    "aic_bic_results = []\n",
    "\n",
    "for p in range(0,11):\n",
    "    for q in range(0,11):\n",
    "        model = SARIMAX(df_duplo_grouped, order=(p,0,q))\n",
    "        results = model.fit()\n",
    "        model_name='ARIMA(' + str(p) + ', 0,' + str(q) + ')'\n",
    "        aic_bic_results.append((model_name, p, q, results.aic, results.bic))\n",
    "        #print(model_name, 'done', end=' - ')\n",
    "        \n",
    "df_aic_bic = pd.DataFrame(aic_bic_results, columns=['model', 'p', 'q', 'aic', 'bic'])\n",
    "print(df_aic_bic.sort_values('aic').head(3))\n",
    "print(df_aic_bic.sort_values('bic').head(3))"
   ]
  },
  {
   "cell_type": "code",
   "execution_count": 55,
   "metadata": {
    "ExecuteTime": {
     "end_time": "2021-08-23T09:43:40.006831Z",
     "start_time": "2021-08-23T09:42:50.252749Z"
    }
   },
   "outputs": [
    {
     "name": "stdout",
     "output_type": "stream",
     "text": [
      "            model         aic         bic\n",
      "1   ARIMA(0, 1,1)  357.949738  361.852225\n",
      "24  ARIMA(2, 1,2)  358.273988  368.030207\n",
      "5   ARIMA(0, 1,5)  358.679146  370.386608\n",
      "            model         aic         bic\n",
      "1   ARIMA(0, 1,1)  357.949738  361.852225\n",
      "11  ARIMA(1, 1,0)  359.893813  363.796301\n",
      "0   ARIMA(0, 1,0)  362.741510  364.692754\n"
     ]
    }
   ],
   "source": [
    "aic_bic_results = []\n",
    "\n",
    "for p in range(0,11):\n",
    "    for q in range(0,11):\n",
    "        model = SARIMAX(df_duplo_grouped, order=(p,1,q))\n",
    "        results = model.fit()\n",
    "        model_name='ARIMA(' + str(p) + ', 1,' + str(q) + ')'\n",
    "        aic_bic_results.append((model_name, results.aic, results.bic))\n",
    "        #print(model_name, 'done', end=' - ')\n",
    "        \n",
    "df_aic_bic = pd.DataFrame(aic_bic_results, columns=['model', 'aic', 'bic'])\n",
    "print(df_aic_bic.sort_values('aic').head(3))\n",
    "print(df_aic_bic.sort_values('bic').head(3))"
   ]
  },
  {
   "cell_type": "code",
   "execution_count": 56,
   "metadata": {
    "ExecuteTime": {
     "end_time": "2021-08-23T09:44:38.370948Z",
     "start_time": "2021-08-23T09:43:40.008857Z"
    }
   },
   "outputs": [
    {
     "name": "stdout",
     "output_type": "stream",
     "text": [
      "            model         aic         bic\n",
      "2   ARIMA(0, 2,2)  358.541863  364.337340\n",
      "36  ARIMA(3, 2,3)  358.633245  372.156025\n",
      "25  ARIMA(2, 2,3)  358.696356  370.287310\n",
      "            model         aic         bic\n",
      "2   ARIMA(0, 2,2)  358.541863  364.337340\n",
      "12  ARIMA(1, 2,1)  360.257346  366.052823\n",
      "1   ARIMA(0, 2,1)  362.622892  366.486543\n"
     ]
    }
   ],
   "source": [
    "aic_bic_results = []\n",
    "\n",
    "for p in range(0,11):\n",
    "    for q in range(0,11):\n",
    "        model = SARIMAX(df_duplo_grouped, order=(p,2,q))\n",
    "        results = model.fit()\n",
    "        model_name='ARIMA(' + str(p) + ', 2,' + str(q) + ')'\n",
    "        aic_bic_results.append((model_name, results.aic, results.bic))\n",
    "        #print(model_name, 'done', end=' - ')\n",
    "        \n",
    "df_aic_bic = pd.DataFrame(aic_bic_results, columns=['model', 'aic', 'bic'])\n",
    "print(df_aic_bic.sort_values('aic').head(3))\n",
    "print(df_aic_bic.sort_values('bic').head(3))"
   ]
  },
  {
   "cell_type": "markdown",
   "metadata": {},
   "source": [
    "### town/city"
   ]
  },
  {
   "cell_type": "code",
   "execution_count": 57,
   "metadata": {
    "ExecuteTime": {
     "end_time": "2021-08-23T09:44:41.229576Z",
     "start_time": "2021-08-23T09:44:38.373945Z"
    }
   },
   "outputs": [
    {
     "name": "stdout",
     "output_type": "stream",
     "text": [
      "ARIMA(0, 0,0) done - ARIMA(0, 0,1) done - ARIMA(0, 0,2) done - ARIMA(0, 0,3) done - ARIMA(0, 0,4) done - ARIMA(1, 0,0) done - ARIMA(1, 0,1) done - ARIMA(1, 0,2) done - ARIMA(1, 0,3) done - ARIMA(1, 0,4) done - ARIMA(2, 0,0) done - ARIMA(2, 0,1) done - ARIMA(2, 0,2) done - ARIMA(2, 0,3) done - ARIMA(2, 0,4) done - ARIMA(3, 0,0) done - ARIMA(3, 0,1) done - ARIMA(3, 0,2) done - ARIMA(3, 0,3) done - ARIMA(3, 0,4) done - ARIMA(4, 0,0) done - ARIMA(4, 0,1) done - ARIMA(4, 0,2) done - ARIMA(4, 0,3) done - ARIMA(4, 0,4) done - "
     ]
    },
    {
     "data": {
      "text/html": [
       "<div>\n",
       "<style scoped>\n",
       "    .dataframe tbody tr th:only-of-type {\n",
       "        vertical-align: middle;\n",
       "    }\n",
       "\n",
       "    .dataframe tbody tr th {\n",
       "        vertical-align: top;\n",
       "    }\n",
       "\n",
       "    .dataframe thead th {\n",
       "        text-align: right;\n",
       "    }\n",
       "</style>\n",
       "<table border=\"1\" class=\"dataframe\">\n",
       "  <thead>\n",
       "    <tr style=\"text-align: right;\">\n",
       "      <th></th>\n",
       "      <th>model</th>\n",
       "      <th>aic</th>\n",
       "      <th>bic</th>\n",
       "    </tr>\n",
       "  </thead>\n",
       "  <tbody>\n",
       "    <tr>\n",
       "      <th>14</th>\n",
       "      <td>ARIMA(2, 0,4)</td>\n",
       "      <td>325.334154</td>\n",
       "      <td>337.823482</td>\n",
       "    </tr>\n",
       "    <tr>\n",
       "      <th>19</th>\n",
       "      <td>ARIMA(3, 0,4)</td>\n",
       "      <td>325.638898</td>\n",
       "      <td>339.912415</td>\n",
       "    </tr>\n",
       "    <tr>\n",
       "      <th>24</th>\n",
       "      <td>ARIMA(4, 0,4)</td>\n",
       "      <td>327.518187</td>\n",
       "      <td>343.575894</td>\n",
       "    </tr>\n",
       "  </tbody>\n",
       "</table>\n",
       "</div>"
      ],
      "text/plain": [
       "            model         aic         bic\n",
       "14  ARIMA(2, 0,4)  325.334154  337.823482\n",
       "19  ARIMA(3, 0,4)  325.638898  339.912415\n",
       "24  ARIMA(4, 0,4)  327.518187  343.575894"
      ]
     },
     "metadata": {},
     "output_type": "display_data"
    },
    {
     "data": {
      "text/html": [
       "<div>\n",
       "<style scoped>\n",
       "    .dataframe tbody tr th:only-of-type {\n",
       "        vertical-align: middle;\n",
       "    }\n",
       "\n",
       "    .dataframe tbody tr th {\n",
       "        vertical-align: top;\n",
       "    }\n",
       "\n",
       "    .dataframe thead th {\n",
       "        text-align: right;\n",
       "    }\n",
       "</style>\n",
       "<table border=\"1\" class=\"dataframe\">\n",
       "  <thead>\n",
       "    <tr style=\"text-align: right;\">\n",
       "      <th></th>\n",
       "      <th>model</th>\n",
       "      <th>aic</th>\n",
       "      <th>bic</th>\n",
       "    </tr>\n",
       "  </thead>\n",
       "  <tbody>\n",
       "    <tr>\n",
       "      <th>14</th>\n",
       "      <td>ARIMA(2, 0,4)</td>\n",
       "      <td>325.334154</td>\n",
       "      <td>337.823482</td>\n",
       "    </tr>\n",
       "    <tr>\n",
       "      <th>5</th>\n",
       "      <td>ARIMA(1, 0,0)</td>\n",
       "      <td>335.416932</td>\n",
       "      <td>338.985312</td>\n",
       "    </tr>\n",
       "    <tr>\n",
       "      <th>9</th>\n",
       "      <td>ARIMA(1, 0,4)</td>\n",
       "      <td>328.944821</td>\n",
       "      <td>339.649959</td>\n",
       "    </tr>\n",
       "  </tbody>\n",
       "</table>\n",
       "</div>"
      ],
      "text/plain": [
       "            model         aic         bic\n",
       "14  ARIMA(2, 0,4)  325.334154  337.823482\n",
       "5   ARIMA(1, 0,0)  335.416932  338.985312\n",
       "9   ARIMA(1, 0,4)  328.944821  339.649959"
      ]
     },
     "metadata": {},
     "output_type": "display_data"
    }
   ],
   "source": [
    "aic_bic_results = []\n",
    "\n",
    "for p in range(0,5):\n",
    "    for q in range(0,5):\n",
    "        model = SARIMAX(df_towncity_grouped, order=(p,0,q))\n",
    "        results = model.fit()\n",
    "        model_name='ARIMA(' + str(p) + ', 0,' + str(q) + ')'\n",
    "        aic_bic_results.append((model_name, results.aic, results.bic))\n",
    "        print(model_name, 'done', end=' - ')\n",
    "        \n",
    "df_aic_bic = pd.DataFrame(aic_bic_results, columns=['model', 'aic', 'bic'])\n",
    "display(df_aic_bic.sort_values('aic').head(3))\n",
    "display(df_aic_bic.sort_values('bic').head(3))"
   ]
  },
  {
   "cell_type": "code",
   "execution_count": 58,
   "metadata": {
    "ExecuteTime": {
     "end_time": "2021-08-23T09:44:43.758251Z",
     "start_time": "2021-08-23T09:44:41.232578Z"
    }
   },
   "outputs": [
    {
     "name": "stdout",
     "output_type": "stream",
     "text": [
      "ARIMA(0, 1,0) done - ARIMA(0, 1,1) done - ARIMA(0, 1,2) done - ARIMA(0, 1,3) done - ARIMA(0, 1,4) done - ARIMA(1, 1,0) done - ARIMA(1, 1,1) done - ARIMA(1, 1,2) done - ARIMA(1, 1,3) done - ARIMA(1, 1,4) done - ARIMA(2, 1,0) done - ARIMA(2, 1,1) done - ARIMA(2, 1,2) done - ARIMA(2, 1,3) done - ARIMA(2, 1,4) done - ARIMA(3, 1,0) done - ARIMA(3, 1,1) done - ARIMA(3, 1,2) done - ARIMA(3, 1,3) done - ARIMA(3, 1,4) done - ARIMA(4, 1,0) done - ARIMA(4, 1,1) done - ARIMA(4, 1,2) done - ARIMA(4, 1,3) done - ARIMA(4, 1,4) done - "
     ]
    },
    {
     "data": {
      "text/html": [
       "<div>\n",
       "<style scoped>\n",
       "    .dataframe tbody tr th:only-of-type {\n",
       "        vertical-align: middle;\n",
       "    }\n",
       "\n",
       "    .dataframe tbody tr th {\n",
       "        vertical-align: top;\n",
       "    }\n",
       "\n",
       "    .dataframe thead th {\n",
       "        text-align: right;\n",
       "    }\n",
       "</style>\n",
       "<table border=\"1\" class=\"dataframe\">\n",
       "  <thead>\n",
       "    <tr style=\"text-align: right;\">\n",
       "      <th></th>\n",
       "      <th>model</th>\n",
       "      <th>aic</th>\n",
       "      <th>bic</th>\n",
       "    </tr>\n",
       "  </thead>\n",
       "  <tbody>\n",
       "    <tr>\n",
       "      <th>9</th>\n",
       "      <td>ARIMA(1, 1,4)</td>\n",
       "      <td>313.425671</td>\n",
       "      <td>323.992872</td>\n",
       "    </tr>\n",
       "    <tr>\n",
       "      <th>14</th>\n",
       "      <td>ARIMA(2, 1,4)</td>\n",
       "      <td>313.666768</td>\n",
       "      <td>325.995168</td>\n",
       "    </tr>\n",
       "    <tr>\n",
       "      <th>21</th>\n",
       "      <td>ARIMA(4, 1,1)</td>\n",
       "      <td>314.157038</td>\n",
       "      <td>324.724239</td>\n",
       "    </tr>\n",
       "  </tbody>\n",
       "</table>\n",
       "</div>"
      ],
      "text/plain": [
       "            model         aic         bic\n",
       "9   ARIMA(1, 1,4)  313.425671  323.992872\n",
       "14  ARIMA(2, 1,4)  313.666768  325.995168\n",
       "21  ARIMA(4, 1,1)  314.157038  324.724239"
      ]
     },
     "metadata": {},
     "output_type": "display_data"
    },
    {
     "data": {
      "text/html": [
       "<div>\n",
       "<style scoped>\n",
       "    .dataframe tbody tr th:only-of-type {\n",
       "        vertical-align: middle;\n",
       "    }\n",
       "\n",
       "    .dataframe tbody tr th {\n",
       "        vertical-align: top;\n",
       "    }\n",
       "\n",
       "    .dataframe thead th {\n",
       "        text-align: right;\n",
       "    }\n",
       "</style>\n",
       "<table border=\"1\" class=\"dataframe\">\n",
       "  <thead>\n",
       "    <tr style=\"text-align: right;\">\n",
       "      <th></th>\n",
       "      <th>model</th>\n",
       "      <th>aic</th>\n",
       "      <th>bic</th>\n",
       "    </tr>\n",
       "  </thead>\n",
       "  <tbody>\n",
       "    <tr>\n",
       "      <th>9</th>\n",
       "      <td>ARIMA(1, 1,4)</td>\n",
       "      <td>313.425671</td>\n",
       "      <td>323.992872</td>\n",
       "    </tr>\n",
       "    <tr>\n",
       "      <th>21</th>\n",
       "      <td>ARIMA(4, 1,1)</td>\n",
       "      <td>314.157038</td>\n",
       "      <td>324.724239</td>\n",
       "    </tr>\n",
       "    <tr>\n",
       "      <th>4</th>\n",
       "      <td>ARIMA(0, 1,4)</td>\n",
       "      <td>316.795599</td>\n",
       "      <td>325.601599</td>\n",
       "    </tr>\n",
       "  </tbody>\n",
       "</table>\n",
       "</div>"
      ],
      "text/plain": [
       "            model         aic         bic\n",
       "9   ARIMA(1, 1,4)  313.425671  323.992872\n",
       "21  ARIMA(4, 1,1)  314.157038  324.724239\n",
       "4   ARIMA(0, 1,4)  316.795599  325.601599"
      ]
     },
     "metadata": {},
     "output_type": "display_data"
    }
   ],
   "source": [
    "aic_bic_results = []\n",
    "\n",
    "for p in range(0,5):\n",
    "    for q in range(0,5):\n",
    "        model = SARIMAX(df_towncity_grouped, order=(p,1,q))\n",
    "        results = model.fit()\n",
    "        model_name='ARIMA(' + str(p) + ', 1,' + str(q) + ')'\n",
    "        aic_bic_results.append((model_name, results.aic, results.bic))\n",
    "        print(model_name, 'done', end=' - ')\n",
    "        \n",
    "df_aic_bic = pd.DataFrame(aic_bic_results, columns=['model', 'aic', 'bic'])\n",
    "display(df_aic_bic.sort_values('aic').head(3))\n",
    "display(df_aic_bic.sort_values('bic').head(3))"
   ]
  },
  {
   "cell_type": "code",
   "execution_count": 59,
   "metadata": {
    "ExecuteTime": {
     "end_time": "2021-08-23T09:44:47.511440Z",
     "start_time": "2021-08-23T09:44:43.761254Z"
    }
   },
   "outputs": [
    {
     "name": "stdout",
     "output_type": "stream",
     "text": [
      "ARIMA(0, 2,0) done - ARIMA(0, 2,1) done - ARIMA(0, 2,2) done - ARIMA(0, 2,3) done - ARIMA(0, 2,4) done - ARIMA(1, 2,0) done - ARIMA(1, 2,1) done - ARIMA(1, 2,2) done - ARIMA(1, 2,3) done - ARIMA(1, 2,4) done - ARIMA(2, 2,0) done - ARIMA(2, 2,1) done - ARIMA(2, 2,2) done - ARIMA(2, 2,3) done - ARIMA(2, 2,4) done - ARIMA(3, 2,0) done - ARIMA(3, 2,1) done - ARIMA(3, 2,2) done - ARIMA(3, 2,3) done - ARIMA(3, 2,4) done - ARIMA(4, 2,0) done - ARIMA(4, 2,1) done - ARIMA(4, 2,2) done - ARIMA(4, 2,3) done - ARIMA(4, 2,4) done - "
     ]
    },
    {
     "data": {
      "text/html": [
       "<div>\n",
       "<style scoped>\n",
       "    .dataframe tbody tr th:only-of-type {\n",
       "        vertical-align: middle;\n",
       "    }\n",
       "\n",
       "    .dataframe tbody tr th {\n",
       "        vertical-align: top;\n",
       "    }\n",
       "\n",
       "    .dataframe thead th {\n",
       "        text-align: right;\n",
       "    }\n",
       "</style>\n",
       "<table border=\"1\" class=\"dataframe\">\n",
       "  <thead>\n",
       "    <tr style=\"text-align: right;\">\n",
       "      <th></th>\n",
       "      <th>model</th>\n",
       "      <th>aic</th>\n",
       "      <th>bic</th>\n",
       "    </tr>\n",
       "  </thead>\n",
       "  <tbody>\n",
       "    <tr>\n",
       "      <th>22</th>\n",
       "      <td>ARIMA(4, 2,2)</td>\n",
       "      <td>313.926397</td>\n",
       "      <td>326.090085</td>\n",
       "    </tr>\n",
       "    <tr>\n",
       "      <th>23</th>\n",
       "      <td>ARIMA(4, 2,3)</td>\n",
       "      <td>315.091921</td>\n",
       "      <td>328.993278</td>\n",
       "    </tr>\n",
       "    <tr>\n",
       "      <th>24</th>\n",
       "      <td>ARIMA(4, 2,4)</td>\n",
       "      <td>315.346310</td>\n",
       "      <td>330.985336</td>\n",
       "    </tr>\n",
       "  </tbody>\n",
       "</table>\n",
       "</div>"
      ],
      "text/plain": [
       "            model         aic         bic\n",
       "22  ARIMA(4, 2,2)  313.926397  326.090085\n",
       "23  ARIMA(4, 2,3)  315.091921  328.993278\n",
       "24  ARIMA(4, 2,4)  315.346310  330.985336"
      ]
     },
     "metadata": {},
     "output_type": "display_data"
    },
    {
     "data": {
      "text/html": [
       "<div>\n",
       "<style scoped>\n",
       "    .dataframe tbody tr th:only-of-type {\n",
       "        vertical-align: middle;\n",
       "    }\n",
       "\n",
       "    .dataframe tbody tr th {\n",
       "        vertical-align: top;\n",
       "    }\n",
       "\n",
       "    .dataframe thead th {\n",
       "        text-align: right;\n",
       "    }\n",
       "</style>\n",
       "<table border=\"1\" class=\"dataframe\">\n",
       "  <thead>\n",
       "    <tr style=\"text-align: right;\">\n",
       "      <th></th>\n",
       "      <th>model</th>\n",
       "      <th>aic</th>\n",
       "      <th>bic</th>\n",
       "    </tr>\n",
       "  </thead>\n",
       "  <tbody>\n",
       "    <tr>\n",
       "      <th>22</th>\n",
       "      <td>ARIMA(4, 2,2)</td>\n",
       "      <td>313.926397</td>\n",
       "      <td>326.090085</td>\n",
       "    </tr>\n",
       "    <tr>\n",
       "      <th>3</th>\n",
       "      <td>ARIMA(0, 2,3)</td>\n",
       "      <td>319.675345</td>\n",
       "      <td>326.626024</td>\n",
       "    </tr>\n",
       "    <tr>\n",
       "      <th>1</th>\n",
       "      <td>ARIMA(0, 2,1)</td>\n",
       "      <td>323.169612</td>\n",
       "      <td>326.644952</td>\n",
       "    </tr>\n",
       "  </tbody>\n",
       "</table>\n",
       "</div>"
      ],
      "text/plain": [
       "            model         aic         bic\n",
       "22  ARIMA(4, 2,2)  313.926397  326.090085\n",
       "3   ARIMA(0, 2,3)  319.675345  326.626024\n",
       "1   ARIMA(0, 2,1)  323.169612  326.644952"
      ]
     },
     "metadata": {},
     "output_type": "display_data"
    }
   ],
   "source": [
    "aic_bic_results = []\n",
    "\n",
    "for p in range(0,5):\n",
    "    for q in range(0,5):\n",
    "        model = SARIMAX(df_towncity_grouped, order=(p,2,q))\n",
    "        results = model.fit()\n",
    "        model_name='ARIMA(' + str(p) + ', 2,' + str(q) + ')'\n",
    "        aic_bic_results.append((model_name, results.aic, results.bic))\n",
    "        print(model_name, 'done', end=' - ')\n",
    "        \n",
    "df_aic_bic = pd.DataFrame(aic_bic_results, columns=['model', 'aic', 'bic'])\n",
    "display(df_aic_bic.sort_values('aic').head(3))\n",
    "display(df_aic_bic.sort_values('bic').head(3))"
   ]
  },
  {
   "cell_type": "markdown",
   "metadata": {},
   "source": [
    "## Modelling\n",
    "### ARIMA(1, 0, 1)"
   ]
  },
  {
   "cell_type": "code",
   "execution_count": 175,
   "metadata": {
    "ExecuteTime": {
     "end_time": "2021-08-23T12:14:33.251541Z",
     "start_time": "2021-08-23T12:14:32.125415Z"
    }
   },
   "outputs": [
    {
     "name": "stdout",
     "output_type": "stream",
     "text": [
      "                               SARIMAX Results                                \n",
      "==============================================================================\n",
      "Dep. Variable:                set_num   No. Observations:                   53\n",
      "Model:               SARIMAX(1, 0, 1)   Log Likelihood                -181.136\n",
      "Date:                Mon, 23 Aug 2021   AIC                            368.272\n",
      "Time:                        14:14:32   BIC                            374.183\n",
      "Sample:                    01-01-1969   HQIC                           370.545\n",
      "                         - 01-01-2021                                         \n",
      "Covariance Type:                  opg                                         \n",
      "==============================================================================\n",
      "                 coef    std err          z      P>|z|      [0.025      0.975]\n",
      "------------------------------------------------------------------------------\n",
      "ar.L1          0.9798      0.024     40.922      0.000       0.933       1.027\n",
      "ma.L1         -0.3746      0.144     -2.594      0.009      -0.658      -0.092\n",
      "sigma2        51.9953      9.177      5.666      0.000      34.008      69.983\n",
      "===================================================================================\n",
      "Ljung-Box (Q):                       37.42   Jarque-Bera (JB):                 1.35\n",
      "Prob(Q):                              0.59   Prob(JB):                         0.51\n",
      "Heteroskedasticity (H):               3.41   Skew:                             0.14\n",
      "Prob(H) (two-sided):                  0.01   Kurtosis:                         3.73\n",
      "===================================================================================\n",
      "\n",
      "Warnings:\n",
      "[1] Covariance matrix calculated using the outer product of gradients (complex-step).\n"
     ]
    },
    {
     "data": {
      "image/png": "[encoded data removed]",
      "text/plain": [
       "<Figure size 432x288 with 4 Axes>"
      ]
     },
     "metadata": {
      "needs_background": "light"
     },
     "output_type": "display_data"
    }
   ],
   "source": [
    "model101 = SARIMAX(df_duplo_grouped, order=(1,0,1))\n",
    "results101 = model101.fit()\n",
    "print(results101.summary())\n",
    "results101.plot_diagnostics()\n",
    "plt.tight_layout()\n",
    "plt.suptitle('Diagnostics for ARIMA(1, 0, 1)', y=1.01, weight='bold')\n",
    "plt.savefig('Diagnostics ARIMA 101.png', bbox_inches='tight');"
   ]
  },
  {
   "cell_type": "code",
   "execution_count": 176,
   "metadata": {
    "ExecuteTime": {
     "end_time": "2021-08-23T12:14:33.668991Z",
     "start_time": "2021-08-23T12:14:33.251541Z"
    }
   },
   "outputs": [
    {
     "data": {
      "image/png": "[encoded data removed]",
      "text/plain": [
       "<Figure size 432x288 with 1 Axes>"
      ]
     },
     "metadata": {
      "needs_background": "light"
     },
     "output_type": "display_data"
    }
   ],
   "source": [
    "df_duplo_grouped.plot(color='black', label='actual values')\n",
    "results101.get_prediction().predicted_mean.plot(color='grey', ls='dashed', label='predictions')\n",
    "results101.get_forecast(steps=20).predicted_mean.plot(color='grey', label='forecast')\n",
    "confidence_int101 = results101.get_forecast(steps=20).conf_int(alpha = 0.01)\n",
    "plt.fill_between(confidence_int101.index,confidence_int101['lower set_num'],confidence_int101['upper set_num'],\n",
    "                 color='grey', alpha = 0.15)\n",
    "plt.xlabel('')\n",
    "plt.legend(loc='lower left')\n",
    "plt.title('Actual Data, Predictions and Forecast for ARIMA(1, 0, 1)')\n",
    "plt.savefig('Actual Predict Forecast 101.png', bbox_inches='tight');"
   ]
  },
  {
   "cell_type": "markdown",
   "metadata": {},
   "source": [
    "### ARIMA(0, 1, 1)"
   ]
  },
  {
   "cell_type": "code",
   "execution_count": 177,
   "metadata": {
    "ExecuteTime": {
     "end_time": "2021-08-23T12:14:34.729134Z",
     "start_time": "2021-08-23T12:14:33.670991Z"
    }
   },
   "outputs": [
    {
     "name": "stdout",
     "output_type": "stream",
     "text": [
      "                               SARIMAX Results                                \n",
      "==============================================================================\n",
      "Dep. Variable:                set_num   No. Observations:                   53\n",
      "Model:               SARIMAX(0, 1, 1)   Log Likelihood                -176.738\n",
      "Date:                Mon, 23 Aug 2021   AIC                            359.477\n",
      "Time:                        14:14:33   BIC                            365.331\n",
      "Sample:                    01-01-1969   HQIC                           361.721\n",
      "                         - 01-01-2021                                         \n",
      "Covariance Type:                  opg                                         \n",
      "==============================================================================\n",
      "                 coef    std err          z      P>|z|      [0.025      0.975]\n",
      "------------------------------------------------------------------------------\n",
      "intercept      0.4268      0.616      0.693      0.488      -0.780       1.634\n",
      "ma.L1         -0.4003      0.127     -3.148      0.002      -0.649      -0.151\n",
      "sigma2        52.2685      9.545      5.476      0.000      33.560      70.977\n",
      "===================================================================================\n",
      "Ljung-Box (Q):                       36.65   Jarque-Bera (JB):                 0.74\n",
      "Prob(Q):                              0.62   Prob(JB):                         0.69\n",
      "Heteroskedasticity (H):               4.18   Skew:                             0.06\n",
      "Prob(H) (two-sided):                  0.01   Kurtosis:                         3.57\n",
      "===================================================================================\n",
      "\n",
      "Warnings:\n",
      "[1] Covariance matrix calculated using the outer product of gradients (complex-step).\n"
     ]
    },
    {
     "data": {
      "image/png": "[encoded data removed]",
      "text/plain": [
       "<Figure size 432x288 with 4 Axes>"
      ]
     },
     "metadata": {
      "needs_background": "light"
     },
     "output_type": "display_data"
    }
   ],
   "source": [
    "model011 = SARIMAX(df_duplo_grouped, order=(0,1,1), trend='c')\n",
    "results011 = model011.fit()\n",
    "print(results011.summary())\n",
    "results011.plot_diagnostics()\n",
    "plt.tight_layout()\n",
    "plt.suptitle('Diagnostics for ARIMA(0, 1, 1)', y=1.01, weight='bold')\n",
    "plt.savefig('Diagnostics ARIMA 011.png', bbox_inches='tight');"
   ]
  },
  {
   "cell_type": "code",
   "execution_count": 178,
   "metadata": {
    "ExecuteTime": {
     "end_time": "2021-08-23T12:14:35.213320Z",
     "start_time": "2021-08-23T12:14:34.732981Z"
    }
   },
   "outputs": [
    {
     "data": {
      "image/png": "[encoded data removed]",
      "text/plain": [
       "<Figure size 432x288 with 1 Axes>"
      ]
     },
     "metadata": {
      "needs_background": "light"
     },
     "output_type": "display_data"
    }
   ],
   "source": [
    "df_duplo_grouped.plot(color='black', label='actual values')\n",
    "results011.get_prediction().predicted_mean.plot(color='grey', ls='dashed', label='predictions')\n",
    "results011.get_forecast(steps=20).predicted_mean.plot(color='grey', label='forecast')\n",
    "confidence_int011 = results011.get_forecast(steps=20).conf_int(alpha = 0.01)\n",
    "plt.fill_between(confidence_int011.index,confidence_int011['lower set_num'],confidence_int011['upper set_num'],\n",
    "                 color='grey', alpha = 0.15)\n",
    "plt.xlabel('')\n",
    "plt.legend(loc='upper left')\n",
    "plt.title('Actual Data, Predictions and Forecast for ARIMA(0, 1, 1)')\n",
    "plt.savefig('Actual Predict Forecast 011.png', bbox_inches='tight');"
   ]
  },
  {
   "cell_type": "markdown",
   "metadata": {},
   "source": [
    "### ARIMA(0, 2, 2)"
   ]
  },
  {
   "cell_type": "code",
   "execution_count": 179,
   "metadata": {
    "ExecuteTime": {
     "end_time": "2021-08-23T12:14:36.446772Z",
     "start_time": "2021-08-23T12:14:35.213320Z"
    },
    "scrolled": false
   },
   "outputs": [
    {
     "name": "stdout",
     "output_type": "stream",
     "text": [
      "                               SARIMAX Results                                \n",
      "==============================================================================\n",
      "Dep. Variable:                set_num   No. Observations:                   53\n",
      "Model:               SARIMAX(0, 2, 2)   Log Likelihood                -175.565\n",
      "Date:                Mon, 23 Aug 2021   AIC                            359.131\n",
      "Time:                        14:14:35   BIC                            366.858\n",
      "Sample:                    01-01-1969   HQIC                           362.084\n",
      "                         - 01-01-2021                                         \n",
      "Covariance Type:                  opg                                         \n",
      "==============================================================================\n",
      "                 coef    std err          z      P>|z|      [0.025      0.975]\n",
      "------------------------------------------------------------------------------\n",
      "intercept     -0.0508      0.047     -1.085      0.278      -0.143       0.041\n",
      "ma.L1         -1.4124      5.440     -0.260      0.795     -12.074       9.249\n",
      "ma.L2          0.4129      2.206      0.187      0.852      -3.911       4.736\n",
      "sigma2        51.7422    285.907      0.181      0.856    -508.626     612.110\n",
      "===================================================================================\n",
      "Ljung-Box (Q):                       36.78   Jarque-Bera (JB):                 1.07\n",
      "Prob(Q):                              0.62   Prob(JB):                         0.59\n",
      "Heteroskedasticity (H):               3.44   Skew:                             0.01\n",
      "Prob(H) (two-sided):                  0.01   Kurtosis:                         3.71\n",
      "===================================================================================\n",
      "\n",
      "Warnings:\n",
      "[1] Covariance matrix calculated using the outer product of gradients (complex-step).\n"
     ]
    },
    {
     "data": {
      "image/png": "[encoded data removed]",
      "text/plain": [
       "<Figure size 432x288 with 4 Axes>"
      ]
     },
     "metadata": {
      "needs_background": "light"
     },
     "output_type": "display_data"
    }
   ],
   "source": [
    "model022 = SARIMAX(df_duplo_grouped, order=(0,2,2), trend='c')\n",
    "results022 = model022.fit()\n",
    "print(results022.summary())\n",
    "results022.plot_diagnostics()\n",
    "plt.tight_layout()\n",
    "plt.suptitle('Diagnostics for ARIMA(0, 2, 2)', y=1.01, weight='bold')\n",
    "plt.savefig('Diagnostics ARIMA 022.png', bbox_inches='tight');"
   ]
  },
  {
   "cell_type": "code",
   "execution_count": 180,
   "metadata": {
    "ExecuteTime": {
     "end_time": "2021-08-23T12:14:36.902819Z",
     "start_time": "2021-08-23T12:14:36.448773Z"
    }
   },
   "outputs": [
    {
     "data": {
      "image/png": "[encoded data removed]",
      "text/plain": [
       "<Figure size 432x288 with 1 Axes>"
      ]
     },
     "metadata": {
      "needs_background": "light"
     },
     "output_type": "display_data"
    }
   ],
   "source": [
    "df_duplo_grouped.plot(color='black', label='actual values')\n",
    "results022.get_prediction().predicted_mean.plot(color='grey', ls='dashed', label='predictions')\n",
    "results022.get_forecast(steps=20).predicted_mean.plot(color='grey', label='forecast')\n",
    "confidence_int022 = results022.get_forecast(steps=20).conf_int(alpha = 0.01)\n",
    "plt.fill_between(confidence_int022.index,confidence_int022['lower set_num'],confidence_int022['upper set_num'],\n",
    "                 color='grey', alpha = 0.15)\n",
    "plt.xlabel('')\n",
    "plt.legend(loc='lower left')\n",
    "plt.title('Actual Data, Predictions and Forecast for ARIMA(0, 2, 2)')\n",
    "plt.savefig('Actual Predict Forecast 022.png', bbox_inches='tight');"
   ]
  },
  {
   "cell_type": "markdown",
   "metadata": {},
   "source": [
    "### resids"
   ]
  },
  {
   "cell_type": "code",
   "execution_count": 181,
   "metadata": {
    "ExecuteTime": {
     "end_time": "2021-08-23T12:14:36.933821Z",
     "start_time": "2021-08-23T12:14:36.905821Z"
    }
   },
   "outputs": [
    {
     "name": "stdout",
     "output_type": "stream",
     "text": [
      "1.4019633978152939\n",
      "7.145795477059154\n",
      "--------------------\n",
      "0.015267265604687157\n",
      "7.233207178785556\n",
      "--------------------\n",
      "0.5457844560562354\n",
      "7.272862621443911\n"
     ]
    }
   ],
   "source": [
    "print(results101.resid.mean())\n",
    "print(results101.resid.std())\n",
    "print('-'*20)\n",
    "print(results011.resid.mean())\n",
    "print(results011.resid.std())\n",
    "print('-'*20)\n",
    "print(results022.resid.mean())\n",
    "print(results022.resid.std())\n",
    "# results101.resid.plot(kind='line', alpha=0.25)\n",
    "# results011.resid.plot(kind='line', alpha=0.25)\n",
    "# results022.resid.plot(kind='line', alpha=0.25);"
   ]
  },
  {
   "cell_type": "markdown",
   "metadata": {},
   "source": [
    "### predictions only"
   ]
  },
  {
   "cell_type": "code",
   "execution_count": 182,
   "metadata": {
    "ExecuteTime": {
     "end_time": "2021-08-23T12:14:37.399868Z",
     "start_time": "2021-08-23T12:14:36.938824Z"
    }
   },
   "outputs": [
    {
     "data": {
      "image/png": "[encoded data removed]",
      "text/plain": [
       "<Figure size 864x432 with 1 Axes>"
      ]
     },
     "metadata": {
      "needs_background": "light"
     },
     "output_type": "display_data"
    }
   ],
   "source": [
    "df_duplo_grouped.shift().plot(color='black', figsize=(12,6), label='actual values')\n",
    "results101.get_prediction().predicted_mean.plot(color='grey', ls='dashdot', label='ARIMA(1, 0, 1)')\n",
    "results011.get_prediction().predicted_mean.plot(color='grey', ls='dashed', label='ARIMA(0, 1, 1)')\n",
    "results022.get_prediction().predicted_mean.plot(color='grey', ls='dotted', label='ARIMA(0, 2, 2)')\n",
    "plt.legend()\n",
    "plt.savefig('actual vs pred.png', bbox_inches='tight');"
   ]
  },
  {
   "cell_type": "markdown",
   "metadata": {},
   "source": [
    "### forecasts only"
   ]
  },
  {
   "cell_type": "code",
   "execution_count": 183,
   "metadata": {
    "ExecuteTime": {
     "end_time": "2021-08-23T12:14:37.871903Z",
     "start_time": "2021-08-23T12:14:37.402869Z"
    }
   },
   "outputs": [
    {
     "data": {
      "image/png": "[encoded data removed]",
      "text/plain": [
       "<Figure size 432x288 with 1 Axes>"
      ]
     },
     "metadata": {
      "needs_background": "light"
     },
     "output_type": "display_data"
    }
   ],
   "source": [
    "results101.get_forecast(steps=20).predicted_mean.plot(color='grey', ls='dashdot', label='ARIMA(1, 0, 1) forecast')\n",
    "results011.get_forecast(steps=20).predicted_mean.plot(color='grey', ls='dashed', label='ARIMA(0, 1, 1) forecast')\n",
    "results022.get_forecast(steps=20).predicted_mean.plot(color='grey', ls='dotted', label='ARIMA(0, 2, 2) forecast')\n",
    "plt.legend()\n",
    "plt.savefig('all forecasts.png', bbox_inches='tight');"
   ]
  },
  {
   "cell_type": "markdown",
   "metadata": {},
   "source": [
    "### combined"
   ]
  },
  {
   "cell_type": "code",
   "execution_count": 184,
   "metadata": {
    "ExecuteTime": {
     "end_time": "2021-08-23T12:14:38.455540Z",
     "start_time": "2021-08-23T12:14:37.874906Z"
    }
   },
   "outputs": [
    {
     "data": {
      "image/png": "[encoded data removed]",
      "text/plain": [
       "<Figure size 864x432 with 1 Axes>"
      ]
     },
     "metadata": {
      "needs_background": "light"
     },
     "output_type": "display_data"
    }
   ],
   "source": [
    "df_duplo_grouped.shift().plot(color='black', figsize=(12,6), label='actual values')\n",
    "results101.get_prediction().predicted_mean.plot(color='grey', ls='dashdot', label='ARIMA(1, 0, 1)')\n",
    "results011.get_prediction().predicted_mean.plot(color='grey', ls='dashed', label='ARIMA(0, 1, 1)')\n",
    "results022.get_prediction().predicted_mean.plot(color='grey', ls='dotted', label='ARIMA(0, 2, 2)')\n",
    "results101.get_forecast(steps=20).predicted_mean.plot(color='grey', ls='dashdot', label='ARIMA(1, 0, 1) forecast')\n",
    "results011.get_forecast(steps=20).predicted_mean.plot(color='grey', ls='dashed', label='ARIMA(0, 1, 1) forecast')\n",
    "results022.get_forecast(steps=20).predicted_mean.plot(color='grey', ls='dotted', label='ARIMA(0, 2, 2) forecast')\n",
    "plt.legend()\n",
    "plt.xlabel('')\n",
    "plt.title('Actual Values, Predictions and Forecasts for all Three Models')\n",
    "plt.savefig('all models 2021.png', bbox_inches='tight');"
   ]
  },
  {
   "cell_type": "markdown",
   "metadata": {},
   "source": [
    "### combined to 2020 only (last full year)"
   ]
  },
  {
   "cell_type": "code",
   "execution_count": 185,
   "metadata": {
    "ExecuteTime": {
     "end_time": "2021-08-23T12:14:39.174236Z",
     "start_time": "2021-08-23T12:14:38.458541Z"
    }
   },
   "outputs": [
    {
     "data": {
      "image/png": "[encoded data removed]",
      "text/plain": [
       "<Figure size 864x432 with 1 Axes>"
      ]
     },
     "metadata": {
      "needs_background": "light"
     },
     "output_type": "display_data"
    }
   ],
   "source": [
    "model101 = SARIMAX(df_duplo_grouped[:'2020'], order=(1,0,1))\n",
    "results101 = model101.fit()\n",
    "model011 = SARIMAX(df_duplo_grouped[:'2020'], order=(0,1,1))\n",
    "results011 = model011.fit()\n",
    "model022 = SARIMAX(df_duplo_grouped[:'2020'], order=(0,2,2))\n",
    "results022 = model022.fit()\n",
    "\n",
    "df_duplo_grouped[:'2020'].shift().plot(color='black', figsize=(12,6), label='actual values')\n",
    "results101.get_prediction().predicted_mean.plot(color='grey', ls='dashdot', label='ARIMA(1, 0, 1)')\n",
    "results011.get_prediction().predicted_mean.plot(color='grey', ls='dashed', label='ARIMA(0, 1, 1)')\n",
    "results022.get_prediction().predicted_mean.plot(color='grey', ls='dotted', label='ARIMA(0, 2, 2)')\n",
    "results101.get_forecast(steps=20).predicted_mean.plot(color='grey', ls='dashdot', label='ARIMA(1, 0, 1) forecast')\n",
    "results011.get_forecast(steps=20).predicted_mean.plot(color='grey', ls='dashed', label='ARIMA(0, 1, 1) forecast')\n",
    "results022.get_forecast(steps=20).predicted_mean.plot(color='grey', ls='dotted', label='ARIMA(0, 2, 2) forecast')\n",
    "plt.legend()\n",
    "plt.xlabel('')\n",
    "plt.title('Actual Values, Predictions and Forecasts for all Three Models for Data up to 2020')\n",
    "plt.savefig('all models 2020.png', bbox_inches='tight');"
   ]
  },
  {
   "cell_type": "code",
   "execution_count": 186,
   "metadata": {
    "ExecuteTime": {
     "end_time": "2021-08-23T12:14:39.209769Z",
     "start_time": "2021-08-23T12:14:39.176274Z"
    }
   },
   "outputs": [
    {
     "name": "stdout",
     "output_type": "stream",
     "text": [
      "1.4622873433605268\n",
      "7.195282402225692\n",
      "--------------------\n",
      "0.7816235365245265\n",
      "7.281180918903081\n",
      "--------------------\n",
      "-0.42037170666570967\n",
      "7.439020672338209\n"
     ]
    }
   ],
   "source": [
    "print(results101.resid.mean())\n",
    "print(results101.resid.std())\n",
    "print('-'*20)\n",
    "print(results011.resid.mean())\n",
    "print(results011.resid.std())\n",
    "print('-'*20)\n",
    "print(results022.resid.mean())\n",
    "print(results022.resid.std())"
   ]
  },
  {
   "cell_type": "code",
   "execution_count": null,
   "metadata": {},
   "outputs": [],
   "source": []
  }
 ],
 "metadata": {
  "hide_input": false,
  "kernelspec": {
   "display_name": "Python 3",
   "language": "python",
   "name": "python3"
  },
  "language_info": {
   "codemirror_mode": {
    "name": "ipython",
    "version": 3
   },
   "file_extension": ".py",
   "mimetype": "text/x-python",
   "name": "python",
   "nbconvert_exporter": "python",
   "pygments_lexer": "ipython3",
   "version": "3.8.3"
  },
  "toc": {
   "base_numbering": 1,
   "nav_menu": {},
   "number_sections": true,
   "sideBar": true,
   "skip_h1_title": false,
   "title_cell": "Table of Contents",
   "title_sidebar": "Contents",
   "toc_cell": false,
   "toc_position": {
    "height": "calc(100% - 180px)",
    "left": "10px",
    "top": "150px",
    "width": "256px"
   },
   "toc_section_display": true,
   "toc_window_display": true
  },
  "varInspector": {
   "cols": {
    "lenName": 16,
    "lenType": 16,
    "lenVar": 40
   },
   "kernels_config": {
    "python": {
     "delete_cmd_postfix": "",
     "delete_cmd_prefix": "del ",
     "library": "var_list.py",
     "varRefreshCmd": "print(var_dic_list())"
    },
    "r": {
     "delete_cmd_postfix": ") ",
     "delete_cmd_prefix": "rm(",
     "library": "var_list.r",
     "varRefreshCmd": "cat(var_dic_list()) "
    }
   },
   "types_to_exclude": [
    "module",
    "function",
    "builtin_function_or_method",
    "instance",
    "_Feature"
   ],
   "window_display": false
  }
 },
 "nbformat": 4,
 "nbformat_minor": 4
}
